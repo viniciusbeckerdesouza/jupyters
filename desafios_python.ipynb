{
 "cells": [
  {
   "cell_type": "code",
   "execution_count": 1,
   "metadata": {},
   "outputs": [],
   "source": [
    "# Transformando DNA em RNA\n",
    "\n",
    "sequences = \"tatgtttcc#tataggtctg#ctattcaatg#ccgatgtatc#tttcgaac\""
   ]
  },
  {
   "cell_type": "code",
   "execution_count": 4,
   "metadata": {},
   "outputs": [
    {
     "name": "stdout",
     "output_type": "stream",
     "text": [
      "['tatgtttcc', 'tataggtctg', 'ctattcaatg', 'ccgatgtatc', 'tttcgaac']\n"
     ]
    }
   ],
   "source": [
    "## Dividindo a string\n",
    "\n",
    "dna_list = sequences.split(\"#\")\n",
    "print(dna_list)"
   ]
  },
  {
   "cell_type": "code",
   "execution_count": 8,
   "metadata": {},
   "outputs": [
    {
     "name": "stdout",
     "output_type": "stream",
     "text": [
      "DNA: tatgtttcc -> RNA: uauguuucc\n",
      "DNA: tataggtctg -> RNA: uauaggucug\n",
      "DNA: ctattcaatg -> RNA: cuauucaaug\n",
      "DNA: ccgatgtatc -> RNA: ccgauguauc\n",
      "DNA: tttcgaac -> RNA: uuucgaac\n"
     ]
    }
   ],
   "source": [
    "## Convertendo DNA em RNA\n",
    "\n",
    "for dna in dna_list:\n",
    "    rna = dna.replace(\"t\", \"u\")\n",
    "    print(f\"DNA: {dna} -> RNA: {rna}\")"
   ]
  },
  {
   "cell_type": "code",
   "execution_count": 26,
   "metadata": {},
   "outputs": [
    {
     "name": "stdout",
     "output_type": "stream",
     "text": [
      "DNA: tcgtcgattgct -> RNA: ucgucgauugcu\n"
     ]
    }
   ],
   "source": [
    "## Função DNA -> RNA\n",
    "\n",
    "def dna_to_rna(dna):\n",
    "    rna = dna.replace(\"t\", \"u\")\n",
    "    print(f\"DNA: {dna} -> RNA: {rna}\")\n",
    "\n",
    "dna_to_rna(\"tcgtcgattgct\")"
   ]
  },
  {
   "cell_type": "code",
   "execution_count": 28,
   "metadata": {},
   "outputs": [
    {
     "name": "stdout",
     "output_type": "stream",
     "text": [
      "DNA: tatgtttcc -> RNA: uauguuucc\n",
      "DNA: tataggtctg -> RNA: uauaggucug\n",
      "DNA: ctattcaatg -> RNA: cuauucaaug\n",
      "DNA: ccgatgtatc -> RNA: ccgauguauc\n",
      "DNA: tttcgaac -> RNA: uuucgaac\n"
     ]
    }
   ],
   "source": [
    "for dna in dna_list:\n",
    "    dna_to_rna(dna)"
   ]
  },
  {
   "cell_type": "code",
   "execution_count": 10,
   "metadata": {},
   "outputs": [],
   "source": [
    "# Controle de estoque\n",
    "\n",
    "item_list = [\"webcam\", \"mouse\", \"keybord\",\"pc\"]\n",
    "stock_list = [74, 78, 80, 57]\n",
    "\n",
    "stock_dict = {}"
   ]
  },
  {
   "cell_type": "code",
   "execution_count": 14,
   "metadata": {},
   "outputs": [],
   "source": [
    "## Registrando saídas"
   ]
  },
  {
   "cell_type": "code",
   "execution_count": 16,
   "metadata": {},
   "outputs": [],
   "source": [
    "## Atualizando estoque"
   ]
  },
  {
   "cell_type": "code",
   "execution_count": 18,
   "metadata": {},
   "outputs": [],
   "source": [
    "# Valor das ações\n",
    "\n",
    "apple_stock = [298.18, 304.18, 289.23, 295.17, 300.89]"
   ]
  },
  {
   "cell_type": "code",
   "execution_count": 19,
   "metadata": {},
   "outputs": [],
   "source": [
    "## Ordenano os valores"
   ]
  },
  {
   "cell_type": "code",
   "execution_count": 20,
   "metadata": {},
   "outputs": [],
   "source": [
    "## Atualizando os valores"
   ]
  },
  {
   "cell_type": "code",
   "execution_count": 21,
   "metadata": {},
   "outputs": [],
   "source": [
    "## Calculando lucros e perdas"
   ]
  },
  {
   "cell_type": "code",
   "execution_count": null,
   "metadata": {},
   "outputs": [],
   "source": []
  }
 ],
 "metadata": {
  "kernelspec": {
   "display_name": "Python 3",
   "language": "python",
   "name": "python3"
  },
  "language_info": {
   "codemirror_mode": {
    "name": "ipython",
    "version": 3
   },
   "file_extension": ".py",
   "mimetype": "text/x-python",
   "name": "python",
   "nbconvert_exporter": "python",
   "pygments_lexer": "ipython3",
   "version": "3.8.5"
  }
 },
 "nbformat": 4,
 "nbformat_minor": 4
}
