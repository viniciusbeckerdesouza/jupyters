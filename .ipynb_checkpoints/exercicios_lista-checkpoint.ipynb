{
 "cells": [
  {
   "cell_type": "markdown",
   "metadata": {},
   "source": [
    "Faça um Programa que leia um vetor de 5 números inteiros e mostre-os."
   ]
  },
  {
   "cell_type": "code",
   "execution_count": 1,
   "metadata": {},
   "outputs": [
    {
     "data": {
      "text/plain": [
       "[234, 345, 456, 567, 789]"
      ]
     },
     "execution_count": 1,
     "metadata": {},
     "output_type": "execute_result"
    }
   ],
   "source": [
    "lista1 = [234, 345, 456, 567, 789]\n",
    "lista1"
   ]
  },
  {
   "cell_type": "markdown",
   "metadata": {},
   "source": [
    "Faça um Programa que leia um vetor de 10 números reais e mostre-os na ordem inversa."
   ]
  },
  {
   "cell_type": "code",
   "execution_count": 11,
   "metadata": {},
   "outputs": [
    {
     "data": {
      "text/plain": [
       "[500009, 0.8, 56, 2, -8.3456, 7.34, 5.6, -4, -3, -2]"
      ]
     },
     "execution_count": 11,
     "metadata": {},
     "output_type": "execute_result"
    }
   ],
   "source": [
    "lista2 = [-2, -3, -4, 5.6, 7.34, -8.3456, 2, 56, 0.8, 500009]\n",
    "lista2 = list(reversed(lista2))\n",
    "lista2\n"
   ]
  },
  {
   "cell_type": "markdown",
   "metadata": {},
   "source": [
    "Faça um Programa que leia 4 notas, mostre as notas e a média na tela."
   ]
  },
  {
   "cell_type": "code",
   "execution_count": 14,
   "metadata": {},
   "outputs": [
    {
     "name": "stdout",
     "output_type": "stream",
     "text": [
      "Digite nota: 7\n",
      "Digite nota: 8\n",
      "Digite nota: 9\n",
      "Digite nota: 8\n"
     ]
    },
    {
     "data": {
      "text/plain": [
       "[7, 8, 9, 8]"
      ]
     },
     "execution_count": 14,
     "metadata": {},
     "output_type": "execute_result"
    }
   ],
   "source": [
    "x = 0\n",
    "notas = [0, 0, 0, 0]\n",
    "while x < 4:\n",
    "    nota = int(input(\"Digite nota: \"))\n",
    "    notas[x] = nota\n",
    "    x += 1\n",
    "notas\n"
   ]
  },
  {
   "cell_type": "code",
   "execution_count": null,
   "metadata": {},
   "outputs": [],
   "source": [
    "media = sum(notas)/4\n",
    "media"
   ]
  },
  {
   "cell_type": "markdown",
   "metadata": {},
   "source": [
    "Faça um Programa que leia um vetor de 10 caracteres, e diga quantas consoantes foram lidas. Imprima as consoantes."
   ]
  },
  {
   "cell_type": "code",
   "execution_count": 1,
   "metadata": {},
   "outputs": [
    {
     "data": {
      "text/plain": [
       "['b', 'c', 'd', 'f', 'g', 'h', 'j']"
      ]
     },
     "execution_count": 1,
     "metadata": {},
     "output_type": "execute_result"
    }
   ],
   "source": [
    "letras = [\"a\", \"b\", \"c\", \"d\", \"e\", \"f\", \"g\", \"h\", \"i\", \"j\"]\n",
    "for l in letras:\n",
    "    if l in \"aeiou\":\n",
    "        letras.remove(l)\n",
    "    else:\n",
    "        pass\n",
    "letras\n",
    "    "
   ]
  },
  {
   "cell_type": "markdown",
   "metadata": {},
   "source": [
    "Faça um Programa que leia 20 números inteiros e armazene-os num vetor. Armazene os números pares no vetor PAR e os números IMPARES no vetor impar. Imprima os três vetores."
   ]
  },
  {
   "cell_type": "code",
   "execution_count": 4,
   "metadata": {},
   "outputs": [
    {
     "data": {
      "text/plain": [
       "[2, 4, 6, 8, 10, 12, 14, 16, 18, 20]"
      ]
     },
     "execution_count": 4,
     "metadata": {},
     "output_type": "execute_result"
    }
   ],
   "source": [
    "x = 0\n",
    "numbers = [1, 2, 3, 4, 5, 6, 7, 8, 9, 10, 11, 12, 13, 14, 15, 16, 17, 18 ,19, 20]\n",
    "par = []\n",
    "impar = []\n",
    "for number in numbers:\n",
    "    if number%2 == 0:\n",
    "        par.append(number)\n",
    "    else:\n",
    "        impar.append(number)\n",
    "par"
   ]
  },
  {
   "cell_type": "code",
   "execution_count": 5,
   "metadata": {},
   "outputs": [
    {
     "data": {
      "text/plain": [
       "[1, 3, 5, 7, 9, 11, 13, 15, 17, 19]"
      ]
     },
     "execution_count": 5,
     "metadata": {},
     "output_type": "execute_result"
    }
   ],
   "source": [
    "impar"
   ]
  },
  {
   "cell_type": "markdown",
   "metadata": {},
   "source": [
    "Faça um Programa que peça as quatro notas de 10 alunos, calcule e armazene num vetor a média de cada aluno, imprima o número de alunos com média maior ou igual a 7.0."
   ]
  },
  {
   "cell_type": "code",
   "execution_count": 25,
   "metadata": {},
   "outputs": [
    {
     "name": "stdout",
     "output_type": "stream",
     "text": [
      "Digite nota 1: 8\n",
      "Digite nota 2: 7\n",
      "Digite nota 3: 8\n",
      "Digite nota 4: 7\n"
     ]
    },
    {
     "data": {
      "text/plain": [
       "7.5"
      ]
     },
     "execution_count": 25,
     "metadata": {},
     "output_type": "execute_result"
    }
   ],
   "source": [
    "x = 0\n",
    "notas = []\n",
    "while x < 4:\n",
    "    nota = int(input(f\"Digite nota {x+1}: \"))\n",
    "    notas.append(nota)\n",
    "    x += 1\n",
    "media = sum(notas)/len(notas)\n",
    "media"
   ]
  },
  {
   "cell_type": "code",
   "execution_count": 26,
   "metadata": {},
   "outputs": [
    {
     "data": {
      "text/plain": [
       "1"
      ]
     },
     "execution_count": 26,
     "metadata": {},
     "output_type": "execute_result"
    }
   ],
   "source": [
    "aprovados = []\n",
    "if media > 7:\n",
    "    aprovados.append(media)\n",
    "else:\n",
    "    pass\n",
    "len(aprovados)"
   ]
  },
  {
   "cell_type": "markdown",
   "metadata": {},
   "source": [
    "#### Operações com lista\n"
   ]
  },
  {
   "cell_type": "markdown",
   "metadata": {},
   "source": [
    "Faça um Programa que leia um vetor de 5 números inteiros, mostre a soma, a multiplicação e os números"
   ]
  },
  {
   "cell_type": "code",
   "execution_count": 30,
   "metadata": {},
   "outputs": [
    {
     "name": "stdout",
     "output_type": "stream",
     "text": [
      "5\n",
      "6\n",
      "7\n",
      "8\n",
      "9\n",
      "Soma =  35\n",
      "Produto =  15120\n"
     ]
    }
   ],
   "source": [
    "n = [5, 6, 7, 8, 9]\n",
    "soma = sum(n)\n",
    "produto = 1\n",
    "for i in n:\n",
    "    print(i)\n",
    "    produto *= i\n",
    "print(\"Soma = \", soma)\n",
    "print(\"Produto = \", produto)\n"
   ]
  },
  {
   "cell_type": "markdown",
   "metadata": {},
   "source": [
    "###### Faça um Programa que peça a idade e a altura de 5 pessoas, armazene cada informação no seu respectivo vetor. Imprima a idade e a altura na ordem inversa a ordem lida."
   ]
  },
  {
   "cell_type": "code",
   "execution_count": 5,
   "metadata": {},
   "outputs": [
    {
     "name": "stdout",
     "output_type": "stream",
     "text": [
      "Idade: 1\n",
      "Altura: 2\n",
      "Idade: 2\n",
      "Altura: 3\n",
      "Idade: 3\n",
      "Altura: 4\n",
      "Idade: 4\n",
      "Altura: 5\n",
      "Idade: 5\n",
      "Altura: 6\n"
     ]
    }
   ],
   "source": [
    "x = 0\n",
    "idades = []\n",
    "alturas = []\n",
    "while x < 5:\n",
    "    idade = int(input(\"Idade: \"))\n",
    "    altura = int(input(\"Altura: \"))\n",
    "    idades.append(idade)\n",
    "    alturas.append(altura)\n",
    "    x += 1\n",
    "idades = reversed(idades)\n",
    "alturas = reversed(alturas)\n",
    "\n",
    "    "
   ]
  },
  {
   "cell_type": "code",
   "execution_count": 6,
   "metadata": {},
   "outputs": [
    {
     "data": {
      "text/plain": [
       "[5, 4, 3, 2, 1]"
      ]
     },
     "execution_count": 6,
     "metadata": {},
     "output_type": "execute_result"
    }
   ],
   "source": [
    "rev_idades = []\n",
    "for i in idades:\n",
    "    rev_idades.append(i)\n",
    "rev_idades\n",
    "    "
   ]
  },
  {
   "cell_type": "code",
   "execution_count": 7,
   "metadata": {},
   "outputs": [
    {
     "data": {
      "text/plain": [
       "[6, 5, 4, 3, 2]"
      ]
     },
     "execution_count": 7,
     "metadata": {},
     "output_type": "execute_result"
    }
   ],
   "source": [
    "rev_alturas = []\n",
    "for a in alturas:\n",
    "    rev_alturas.append(a)\n",
    "rev_alturas"
   ]
  },
  {
   "cell_type": "markdown",
   "metadata": {},
   "source": [
    "###### Faça um Programa que leia um vetor A com 10 números inteiros, calcule e mostre a soma dos quadrados dos elementos do vetor."
   ]
  },
  {
   "cell_type": "code",
   "execution_count": 11,
   "metadata": {},
   "outputs": [
    {
     "data": {
      "text/plain": [
       "406"
      ]
     },
     "execution_count": 11,
     "metadata": {},
     "output_type": "execute_result"
    }
   ],
   "source": [
    "A = [1, 2, 3, 4, 5, 6, 7, 8, 9, 11]\n",
    "A2 = []\n",
    "for a in A:\n",
    "    a = a*a\n",
    "    A2.append(a)\n",
    "soma = sum(A2)\n",
    "soma"
   ]
  },
  {
   "cell_type": "markdown",
   "metadata": {},
   "source": [
    "###### Faça um Programa que leia dois vetores com 10 elementos cada. Gere um terceiro vetor de 20 elementos, cujos valores deverão ser compostos pelos elementos intercalados dos dois outros vetores."
   ]
  },
  {
   "cell_type": "code",
   "execution_count": 13,
   "metadata": {},
   "outputs": [
    {
     "data": {
      "text/plain": [
       "[(1, 11),\n",
       " (2, 12),\n",
       " (3, 13),\n",
       " (4, 14),\n",
       " (5, 15),\n",
       " (6, 16),\n",
       " (7, 17),\n",
       " (8, 18),\n",
       " (9, 19),\n",
       " (10, 20)]"
      ]
     },
     "execution_count": 13,
     "metadata": {},
     "output_type": "execute_result"
    }
   ],
   "source": [
    "a = [1, 2, 3, 4, 5, 6, 7, 8, 9, 10]\n",
    "b = [11, 12, 13, 14, 15, 16, 17, 18, 19, 20]\n",
    "c = list(zip(a, b))\n",
    "c\n",
    "    "
   ]
  },
  {
   "cell_type": "code",
   "execution_count": 14,
   "metadata": {},
   "outputs": [
    {
     "data": {
      "text/plain": [
       "[(1, 11, 21),\n",
       " (2, 12, 22),\n",
       " (3, 13, 23),\n",
       " (4, 14, 24),\n",
       " (5, 15, 25),\n",
       " (6, 16, 26),\n",
       " (7, 17, 27),\n",
       " (8, 18, 28),\n",
       " (9, 19, 29),\n",
       " (10, 20, 30)]"
      ]
     },
     "execution_count": 14,
     "metadata": {},
     "output_type": "execute_result"
    }
   ],
   "source": [
    "d = [21,22,23,24,25,26,27,28,29,30]\n",
    "e = list(zip(a,b,d))\n",
    "e"
   ]
  },
  {
   "cell_type": "markdown",
   "metadata": {},
   "source": [
    "###### Foram anotadas as idades e alturas de 30 alunos. Faça um Programa que determine quantos alunos com mais de 13 anos possuem altura inferior à média de altura desses alunos.\n"
   ]
  },
  {
   "cell_type": "code",
   "execution_count": 34,
   "metadata": {},
   "outputs": [
    {
     "name": "stdout",
     "output_type": "stream",
     "text": [
      "165.5\n"
     ]
    }
   ],
   "source": [
    "x = 0\n",
    "alturas = []\n",
    "while x < 30:\n",
    "    a = 180 - x\n",
    "    alturas.append(a)\n",
    "    x += 1\n",
    "media_altura = sum(alturas)/len(alturas)\n",
    "print(media_altura)\n",
    "idades = [18, 17, 16, 15, 14, 13, 16, 15, 14, 13, 16, 15, 14, 13, 12, 11, 16, 15, 14, 13, 13, 12, 11, 13, 12, 11, 13, 12, 11, 10]"
   ]
  },
  {
   "cell_type": "code",
   "execution_count": 30,
   "metadata": {},
   "outputs": [],
   "source": [
    "alunos_zip = zip(alturas, idades)\n",
    "alunos = []\n",
    "for aluno in alunos_zip:\n",
    "    alunos.append(aluno)\n"
   ]
  },
  {
   "cell_type": "code",
   "execution_count": 33,
   "metadata": {},
   "outputs": [
    {
     "data": {
      "text/plain": [
       "[(180, 18),\n",
       " (179, 17),\n",
       " (178, 16),\n",
       " (177, 15),\n",
       " (176, 14),\n",
       " (175, 13),\n",
       " (174, 16),\n",
       " (173, 15),\n",
       " (172, 14),\n",
       " (171, 13),\n",
       " (170, 16),\n",
       " (169, 15),\n",
       " (168, 14),\n",
       " (167, 13),\n",
       " (166, 12),\n",
       " (165, 11),\n",
       " (164, 16),\n",
       " (163, 15),\n",
       " (162, 14),\n",
       " (161, 13),\n",
       " (160, 13),\n",
       " (159, 12),\n",
       " (158, 11),\n",
       " (157, 13),\n",
       " (156, 12),\n",
       " (155, 11),\n",
       " (154, 13),\n",
       " (153, 12),\n",
       " (152, 11),\n",
       " (151, 10)]"
      ]
     },
     "execution_count": 33,
     "metadata": {},
     "output_type": "execute_result"
    }
   ],
   "source": [
    "sorted(alunos)\n",
    "alunos"
   ]
  },
  {
   "cell_type": "markdown",
   "metadata": {},
   "source": [
    "###### Faça um programa que receba a temperatura média de cada mês do ano e armazene-as em uma lista. Após isto, calcule a média anual das temperaturas e mostre todas as temperaturas acima da média anual, e em que mês elas ocorreram (mostrar o mês por extenso: 1 – Janeiro, 2 – Fevereiro, . . . )."
   ]
  },
  {
   "cell_type": "code",
   "execution_count": 35,
   "metadata": {},
   "outputs": [
    {
     "name": "stdout",
     "output_type": "stream",
     "text": [
      "Temperatura: 32\n",
      "Temperatura: 31\n",
      "Temperatura: 29\n",
      "Temperatura: 26\n",
      "Temperatura: 21\n",
      "Temperatura: 22\n",
      "Temperatura: 23\n",
      "Temperatura: 21\n",
      "Temperatura: 24\n",
      "Temperatura: 28\n",
      "Temperatura: 21\n",
      "Temperatura: 29\n"
     ]
    }
   ],
   "source": [
    "x = 0\n",
    "temp = []\n",
    "while x < 12:\n",
    "    t = float(input('Temperatura: '))\n",
    "    temp.append(t)\n",
    "    x += 1\n"
   ]
  },
  {
   "cell_type": "markdown",
   "metadata": {},
   "source": [
    "###### Utilizando listas faça um programa que faça 5 perguntas para uma pessoa sobre um crime. "
   ]
  },
  {
   "cell_type": "code",
   "execution_count": 23,
   "metadata": {},
   "outputs": [
    {
     "name": "stdout",
     "output_type": "stream",
     "text": [
      "Telefonou para a vítima? não\n",
      "Esteve no local do crime?não\n",
      "Mora perto da vítima?sim\n",
      "Devia para a vítima?não\n",
      "Já trabalhou com a vítima?sim\n"
     ]
    }
   ],
   "source": [
    "a = input(\"Telefonou para a vítima? \")\n",
    "b = input(\"Esteve no local do crime?\")\n",
    "c = input(\"Mora perto da vítima?\")\n",
    "d = input(\"Devia para a vítima?\")\n",
    "e = input(\"Já trabalhou com a vítima?\")\n",
    "\n"
   ]
  },
  {
   "cell_type": "code",
   "execution_count": 24,
   "metadata": {},
   "outputs": [
    {
     "data": {
      "text/plain": [
       "['não', 'não', 'sim', 'não', 'sim']"
      ]
     },
     "execution_count": 24,
     "metadata": {},
     "output_type": "execute_result"
    }
   ],
   "source": [
    "crime = []\n",
    "crime.append(a)\n",
    "crime.append(b)\n",
    "crime.append(c)\n",
    "crime.append(d)\n",
    "crime.append(e)\n",
    "crime"
   ]
  },
  {
   "cell_type": "code",
   "execution_count": 25,
   "metadata": {},
   "outputs": [
    {
     "name": "stdout",
     "output_type": "stream",
     "text": [
      "Suspeita\n"
     ]
    }
   ],
   "source": [
    "sim = crime.count(\"sim\")\n",
    "if sim == 2:\n",
    "    print(\"Suspeita\")\n",
    "elif sim ==3 | sim == 4:\n",
    "    print(\"Cúmplice\")\n",
    "elif sim == 5:\n",
    "    print(\"Assassino\")\n",
    "else:\n",
    "    print(\"Inocente\")"
   ]
  },
  {
   "cell_type": "markdown",
   "metadata": {},
   "source": [
    "##### Calculadora de Notas"
   ]
  },
  {
   "cell_type": "code",
   "execution_count": 13,
   "metadata": {},
   "outputs": [
    {
     "name": "stdout",
     "output_type": "stream",
     "text": [
      "Digite nota (-1 pra sair): 6.5\n",
      "Digite nota (-1 pra sair): 7\n",
      "Digite nota (-1 pra sair): 8\n",
      "Digite nota (-1 pra sair): 9\n",
      "Digite nota (-1 pra sair): 7.5\n",
      "Digite nota (-1 pra sair): 5\n",
      "Digite nota (-1 pra sair): -1\n"
     ]
    },
    {
     "data": {
      "text/plain": [
       "-1.0"
      ]
     },
     "execution_count": 13,
     "metadata": {},
     "output_type": "execute_result"
    }
   ],
   "source": [
    "nota = 1\n",
    "notas = []\n",
    "while nota > 0:\n",
    "    nota = float(input(\"Digite nota (-1 pra sair): \"))\n",
    "    notas.append(nota)\n",
    "notas.pop()"
   ]
  },
  {
   "cell_type": "code",
   "execution_count": 14,
   "metadata": {},
   "outputs": [
    {
     "data": {
      "text/plain": [
       "6"
      ]
     },
     "execution_count": 14,
     "metadata": {},
     "output_type": "execute_result"
    }
   ],
   "source": [
    "len(notas)"
   ]
  },
  {
   "cell_type": "code",
   "execution_count": 15,
   "metadata": {},
   "outputs": [
    {
     "data": {
      "text/plain": [
       "[6.5, 7.0, 8.0, 9.0, 7.5, 5.0]"
      ]
     },
     "execution_count": 15,
     "metadata": {},
     "output_type": "execute_result"
    }
   ],
   "source": [
    "notas"
   ]
  },
  {
   "cell_type": "code",
   "execution_count": 16,
   "metadata": {},
   "outputs": [
    {
     "data": {
      "text/plain": [
       "[6.5, 7.0, 8.0, 9.0, 7.5, 5.0]"
      ]
     },
     "execution_count": 16,
     "metadata": {},
     "output_type": "execute_result"
    }
   ],
   "source": [
    "rev_notas = []\n",
    "reversed(notas)\n",
    "for n in notas:\n",
    "    rev_notas.append(n)\n",
    "rev_notas"
   ]
  },
  {
   "cell_type": "code",
   "execution_count": 17,
   "metadata": {},
   "outputs": [
    {
     "data": {
      "text/plain": [
       "43.0"
      ]
     },
     "execution_count": 17,
     "metadata": {},
     "output_type": "execute_result"
    }
   ],
   "source": [
    "soma = sum(notas)\n",
    "soma"
   ]
  },
  {
   "cell_type": "code",
   "execution_count": 18,
   "metadata": {},
   "outputs": [
    {
     "data": {
      "text/plain": [
       "7.166666666666667"
      ]
     },
     "execution_count": 18,
     "metadata": {},
     "output_type": "execute_result"
    }
   ],
   "source": [
    "media = sum(notas)/len(notas)\n",
    "media"
   ]
  },
  {
   "cell_type": "code",
   "execution_count": 19,
   "metadata": {},
   "outputs": [
    {
     "name": "stdout",
     "output_type": "stream",
     "text": [
      "8.0\n",
      "9.0\n",
      "7.5\n"
     ]
    }
   ],
   "source": [
    "for n in notas:\n",
    "    if n > media:\n",
    "        print(n)"
   ]
  },
  {
   "cell_type": "code",
   "execution_count": 20,
   "metadata": {},
   "outputs": [
    {
     "name": "stdout",
     "output_type": "stream",
     "text": [
      "6.5\n",
      "5.0\n"
     ]
    }
   ],
   "source": [
    "for n in notas:\n",
    "    if n < 7:\n",
    "        print(n)"
   ]
  },
  {
   "cell_type": "code",
   "execution_count": 21,
   "metadata": {},
   "outputs": [
    {
     "name": "stdout",
     "output_type": "stream",
     "text": [
      "Obrigado\n"
     ]
    }
   ],
   "source": [
    "print(\"Obrigado\")"
   ]
  },
  {
   "cell_type": "markdown",
   "metadata": {},
   "source": [
    "##### Calculadora de comissões"
   ]
  },
  {
   "cell_type": "markdown",
   "metadata": {},
   "source": [
    "Utilize uma lista para resolver o problema a seguir. Uma empresa paga seus vendedores com base em comissões. O vendedor recebe  200 por semana mais 9 por cento de suas vendas brutas daquela semana. Por exemplo, um vendedor que teve vendas brutas de  3000 em uma semana recebe  200 mais 9 por cento de  3000, ou seja, um total de  470. Escreva um programa (usando um array de contadores) que determine quantos vendedores receberam salários nos seguintes intervalos de valores:"
   ]
  },
  {
   "cell_type": "code",
   "execution_count": 3,
   "metadata": {},
   "outputs": [
    {
     "name": "stdout",
     "output_type": "stream",
     "text": [
      "Vendas: 5000\n",
      "Vendas: 2300\n",
      "Vendas: 7800\n",
      "Vendas: 4000\n",
      "Vendas: 1200\n",
      "Vendas: 6300\n",
      "Vendas: 8800\n",
      "Vendas: 9800\n",
      "Vendas: 1300\n",
      "Vendas: 5500\n",
      "Vendas: -1\n"
     ]
    },
    {
     "data": {
      "text/plain": [
       "[650.0, 407.0, 902.0, 560.0, 308.0, 767.0, 992.0, 1082.0, 317.0, 695.0]"
      ]
     },
     "execution_count": 3,
     "metadata": {},
     "output_type": "execute_result"
    }
   ],
   "source": [
    "comissoes = []\n",
    "while True:\n",
    "    vendas = float(input(\"Vendas: \"))\n",
    "    if vendas == -1:\n",
    "        break\n",
    "    comissao = 200 + vendas * 0.09\n",
    "    comissoes.append(comissao)\n",
    "    \n",
    "comissoes\n"
   ]
  },
  {
   "cell_type": "code",
   "execution_count": 13,
   "metadata": {},
   "outputs": [],
   "source": [
    "A = [c for c in comissoes if c < 299]\n",
    "B = [c for c in comissoes if c > 299 and c < 399]\n",
    "C = [c for c in comissoes if c > 399 and c < 499]\n",
    "D = [c for c in comissoes if c > 499 and c < 599]\n",
    "E = [c for c in comissoes if c > 599 and c < 699]\n",
    "F = [c for c in comissoes if c > 699 and c < 799]\n",
    "G = [c for c in comissoes if c > 799 and c < 899]\n",
    "H = [c for c in comissoes if c > 899 and c < 999]\n",
    "I = [c for c in comissoes if c > 999]"
   ]
  },
  {
   "cell_type": "code",
   "execution_count": 14,
   "metadata": {},
   "outputs": [
    {
     "name": "stdout",
     "output_type": "stream",
     "text": [
      "[]\n",
      "[308.0, 317.0]\n",
      "[407.0]\n",
      "[560.0]\n",
      "[650.0, 695.0]\n",
      "[767.0]\n",
      "[]\n",
      "[902.0, 992.0]\n",
      "[1082.0]\n"
     ]
    }
   ],
   "source": [
    "print(A)\n",
    "print(B)\n",
    "print(C)\n",
    "print(D)\n",
    "print(E)\n",
    "print(F)\n",
    "print(G)\n",
    "print(H)\n",
    "print(I)"
   ]
  },
  {
   "cell_type": "markdown",
   "metadata": {},
   "source": [
    "##### Salto em distância\n",
    "Em uma competição de salto em distância cada atleta tem direito a cinco saltos. O resultado do atleta será determinado pela média dos cinco valores restantes. Você deve fazer um programa que receba o nome e as cinco distâncias alcançadas pelo atleta em seus saltos e depois informe o nome, os saltos e a média dos saltos. O programa deve ser encerrado quando não for informado o nome do atleta."
   ]
  },
  {
   "cell_type": "code",
   "execution_count": null,
   "metadata": {},
   "outputs": [],
   "source": []
  }
 ],
 "metadata": {
  "kernelspec": {
   "display_name": "Python 3",
   "language": "python",
   "name": "python3"
  },
  "language_info": {
   "codemirror_mode": {
    "name": "ipython",
    "version": 3
   },
   "file_extension": ".py",
   "mimetype": "text/x-python",
   "name": "python",
   "nbconvert_exporter": "python",
   "pygments_lexer": "ipython3",
   "version": "3.7.1"
  }
 },
 "nbformat": 4,
 "nbformat_minor": 4
}
