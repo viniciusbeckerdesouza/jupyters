{
 "cells": [
  {
   "cell_type": "markdown",
   "metadata": {},
   "source": [
    "##### Faça um Programa que peça dois números e imprima o maior deles."
   ]
  },
  {
   "cell_type": "code",
   "execution_count": 2,
   "metadata": {},
   "outputs": [
    {
     "name": "stdout",
     "output_type": "stream",
     "text": [
      "Número: 87.3\n",
      "Outro número: 87.34\n",
      "87.34\n"
     ]
    }
   ],
   "source": [
    "num_1 = float(input('Número: '))\n",
    "num_2 = float(input('Outro número: '))\n",
    "if num_1 > num_2:\n",
    "    print(num_1)\n",
    "else:\n",
    "    print(num_2)"
   ]
  },
  {
   "cell_type": "markdown",
   "metadata": {},
   "source": [
    "##### Faça um Programa que peça um valor e mostre na tela se o valor é positivo ou negativo."
   ]
  },
  {
   "cell_type": "code",
   "execution_count": 4,
   "metadata": {},
   "outputs": [
    {
     "name": "stdout",
     "output_type": "stream",
     "text": [
      "Número: -2.7\n",
      "-2.7 é negativo.\n"
     ]
    }
   ],
   "source": [
    "num_3 = float(input('Número: '))\n",
    "if num_3 < 0:\n",
    "    print(f\"{num_3} é negativo.\")\n",
    "else:\n",
    "    print(f\"{num_3} é positivo.\")"
   ]
  },
  {
   "cell_type": "markdown",
   "metadata": {},
   "source": [
    "##### Faça um Programa que verifique se uma letra digitada é \"F\" ou \"M\". Conforme a letra escrever: F - Feminino, M - Masculino, Sexo Inválido."
   ]
  },
  {
   "cell_type": "code",
   "execution_count": 14,
   "metadata": {},
   "outputs": [
    {
     "name": "stdout",
     "output_type": "stream",
     "text": [
      "Sexo: f\n",
      "F - Feminino\n"
     ]
    }
   ],
   "source": [
    "sexo_1 = input(\"Sexo: \").upper()\n",
    "\n",
    "if sexo_1 == \"F\":\n",
    "    print(\"F - Feminino\")\n",
    "elif sexo_1 == \"M\":\n",
    "    print(\"M - Masculino\")\n",
    "else:\n",
    "    print(\"Outros\")"
   ]
  },
  {
   "cell_type": "markdown",
   "metadata": {},
   "source": [
    "##### Faça um Programa que verifique se uma letra digitada é vogal ou consoante."
   ]
  },
  {
   "cell_type": "code",
   "execution_count": 19,
   "metadata": {},
   "outputs": [
    {
     "name": "stdout",
     "output_type": "stream",
     "text": [
      "Letra: A\n",
      "a é vogal.\n"
     ]
    }
   ],
   "source": [
    "letra_1 = input(\"Letra: \").lower()\n",
    "if letra_1 in ['a', 'e', 'i', 'o', 'u']:\n",
    "    print(f\"{letra_1} é vogal.\")\n",
    "else:\n",
    "    print(f\"{letra_1} é consoante.\")"
   ]
  },
  {
   "cell_type": "markdown",
   "metadata": {},
   "source": [
    "###### Faça um programa para a leitura de duas notas parciais de um aluno. O programa deve calcular a média alcançada por aluno"
   ]
  },
  {
   "cell_type": "code",
   "execution_count": 26,
   "metadata": {},
   "outputs": [
    {
     "name": "stdout",
     "output_type": "stream",
     "text": [
      "Primeira nota: 5\n",
      "Segunda nota: 5\n",
      "Média = 5.0.\n",
      "Reprovado\n"
     ]
    }
   ],
   "source": [
    "nota_1 = float(input(\"Primeira nota: \"))\n",
    "nota_2 = float(input(\"Segunda nota: \"))\n",
    "media = (nota_1 + nota_2)/2\n",
    "print(f\"Média = {media}.\")\n",
    "if media < 7:\n",
    "    print(\"Reprovado\")\n",
    "elif media == 10:\n",
    "    print(\"Aprovado com distinção\")\n",
    "else:\n",
    "    print(\"Aprovado\")"
   ]
  },
  {
   "cell_type": "markdown",
   "metadata": {},
   "source": [
    "##### Faça um Programa que leia três números e mostre o maior deles."
   ]
  },
  {
   "cell_type": "code",
   "execution_count": 29,
   "metadata": {},
   "outputs": [
    {
     "name": "stdout",
     "output_type": "stream",
     "text": [
      "a 1.1\n",
      "b 1.2\n",
      "c 1.3\n",
      "1.3\n"
     ]
    }
   ],
   "source": [
    "a = float(input('a '))\n",
    "b = float(input('b '))\n",
    "c = float(input('c '))\n",
    "if a > b and a > c:\n",
    "    print(a)\n",
    "elif b > a and b > c:\n",
    "    print(b)\n",
    "else:\n",
    "    print(c)"
   ]
  },
  {
   "cell_type": "markdown",
   "metadata": {},
   "source": [
    "##### Faça um Programa que leia três números e mostre o maior e o menor deles."
   ]
  },
  {
   "cell_type": "code",
   "execution_count": 36,
   "metadata": {},
   "outputs": [
    {
     "name": "stdout",
     "output_type": "stream",
     "text": [
      "Nº: 1.1\n",
      "Nº: 1.2\n",
      "Nº: 1\n",
      "Mínimo =  1.0\n",
      "Máximo =  1.2\n"
     ]
    }
   ],
   "source": [
    "x = 0\n",
    "l = []\n",
    "while x < 3:\n",
    "    i = float(input(\"Nº: \"))\n",
    "    l.append(i)\n",
    "    x += 1\n",
    "print(\"Mínimo = \", min(l))\n",
    "print(\"Máximo = \", max(l))"
   ]
  },
  {
   "cell_type": "markdown",
   "metadata": {},
   "source": [
    "##### Faça um programa que pergunte o preço de três produtos e informe qual produto você deve comprar, sabendo que a decisão é sempre pelo mais barato."
   ]
  },
  {
   "cell_type": "code",
   "execution_count": 39,
   "metadata": {},
   "outputs": [
    {
     "name": "stdout",
     "output_type": "stream",
     "text": [
      "Digite o preço: 1.2\n",
      "Digite o preço: 1.23\n",
      "Digite o preço: 1.19\n",
      "Vou comprar o produto que custa R$  1.19\n"
     ]
    }
   ],
   "source": [
    "x = 0\n",
    "precos = []\n",
    "while x < 3:\n",
    "    preco = float(input(\"Digite o preço: \"))\n",
    "    precos.append(preco)\n",
    "    x += 1\n",
    "print(\"Vou comprar o produto que custa R$ \", min(precos))"
   ]
  },
  {
   "cell_type": "markdown",
   "metadata": {},
   "source": [
    "##### Faça um Programa que leia três números e mostre-os em ordem decrescente."
   ]
  },
  {
   "cell_type": "code",
   "execution_count": 42,
   "metadata": {},
   "outputs": [
    {
     "name": "stdout",
     "output_type": "stream",
     "text": [
      "Digite o número: 3\n",
      "Digite o número: 4\n",
      "Digite o número: 5\n",
      "[3.0, 4.0, 5.0]\n"
     ]
    },
    {
     "data": {
      "text/plain": [
       "[5.0, 4.0, 3.0]"
      ]
     },
     "execution_count": 42,
     "metadata": {},
     "output_type": "execute_result"
    }
   ],
   "source": [
    "x = 0\n",
    "numeros = []\n",
    "while x < 3:\n",
    "    numero = float(input(\"Digite o número: \"))\n",
    "    numeros.append(numero)\n",
    "    x += 1\n",
    "print(numeros)\n",
    "numeros = reversed(numeros)\n",
    "rev_num = []\n",
    "for n in numeros:\n",
    "    rev_num.append(n)\n",
    "rev_num\n",
    "    "
   ]
  },
  {
   "cell_type": "markdown",
   "metadata": {},
   "source": [
    "##### Faça um Programa que pergunte em que turno você estuda. Peça para digitar M-matutino ou V-Vespertino ou N- Noturno. Imprima a mensagem \"Bom Dia!\", \"Boa Tarde!\" ou \"Boa Noite!\" ou \"Valor Inválido!\", conforme o caso."
   ]
  },
  {
   "cell_type": "code",
   "execution_count": 5,
   "metadata": {},
   "outputs": [
    {
     "name": "stdout",
     "output_type": "stream",
     "text": [
      "Em que turno você está?\n",
      "M-matutino ou V-Vespertino ou N- Noturno h\n",
      "Valor inválido!\n"
     ]
    }
   ],
   "source": [
    "turno = input(\"Em que turno você está?\\nM-matutino ou V-Vespertino ou N- Noturno \").upper()\n",
    "\n",
    "if turno == 'M':\n",
    "    print('Bom dia!')\n",
    "elif turno == 'V':\n",
    "    print('Boa tarde!')\n",
    "elif turno == 'N':\n",
    "    print('Boa noite!')\n",
    "else:\n",
    "    print('Valor inválido!')"
   ]
  },
  {
   "cell_type": "markdown",
   "metadata": {},
   "source": [
    "##### Faça um programa que recebe o salário de um colaborador e o reajuste segundo o seguinte critério, baseado no salário atual:"
   ]
  },
  {
   "cell_type": "code",
   "execution_count": 8,
   "metadata": {},
   "outputs": [
    {
     "name": "stdout",
     "output_type": "stream",
     "text": [
      "Salário: 1329.13\n",
      "Salário antigo: R$ 1329.13\n",
      "Porcentagem de aumento: 10.0\n",
      "Valor do aumento: R$ 132.913\n",
      "Novo salário: R$ 1462.0430000000001\n"
     ]
    }
   ],
   "source": [
    "salario = float(input(\"Salário: \"))\n",
    "if salario <= 280:\n",
    "    i = 0.2\n",
    "elif salario <= 700:\n",
    "    i = 0.15\n",
    "elif salario <= 1500:\n",
    "    i = 0.1\n",
    "else:\n",
    "    i = 0.05\n",
    "\n",
    "aumento = salario * i\n",
    "novo_salario = salario + aumento\n",
    "print(\"Salário antigo: R$\", salario)\n",
    "print(f\"Porcentagem de aumento: {i*100}\")\n",
    "print(\"Valor do aumento: R$\", aumento)\n",
    "print(\"Novo salário: R$\", novo_salario)"
   ]
  },
  {
   "cell_type": "markdown",
   "metadata": {},
   "source": [
    "##### Faça um programa para o cálculo de uma folha de pagamento"
   ]
  },
  {
   "cell_type": "code",
   "execution_count": 13,
   "metadata": {},
   "outputs": [
    {
     "name": "stdout",
     "output_type": "stream",
     "text": [
      "Salário bruto: 3000\n",
      "Salário Bruto: (5 * 220)        : R$  3000.0\n",
      "(-) IR 20.0%                    : R$  600.0\n",
      "(-) INSS ( 10%)                 : R$  300.0\n",
      "FGTS (11%)                      : R$  330.0\n",
      "Total de descontos              : R$  990.0\n",
      "Salário Liquido                 : R$  2010.0\n"
     ]
    }
   ],
   "source": [
    "salario_bruto = float(input(\"Salário bruto: \"))\n",
    "if salario_bruto <= 900:\n",
    "    ir = 0\n",
    "elif salario_bruto <= 1500:\n",
    "    ir = 0.05\n",
    "elif salario_bruto <= 2500:\n",
    "    ir = 0.1\n",
    "else:\n",
    "    ir = 0.2\n",
    "inss = salario_bruto * 0.1\n",
    "fgts = salario_bruto * 0.11\n",
    "sindicato = salario_bruto * 0.03\n",
    "imposto = salario_bruto * ir\n",
    "descontos = inss + sindicato + imposto\n",
    "salario_liquido = salario_bruto - descontos\n",
    "print('Salário Bruto: (5 * 220)        : R$ ', salario_bruto)\n",
    "print(f'(-) IR {ir * 100}%                    : R$ ', imposto)\n",
    "print('(-) INSS ( 10%)                 : R$ ', inss)\n",
    "print('FGTS (11%)                      : R$ ', fgts)\n",
    "print('Total de descontos              : R$ ', descontos)\n",
    "print('Salário Liquido                 : R$ ', salario_liquido)\n"
   ]
  },
  {
   "cell_type": "markdown",
   "metadata": {},
   "source": [
    "##### Faça um Programa que leia um número e exiba o dia correspondente da semana. \n"
   ]
  },
  {
   "cell_type": "code",
   "execution_count": 18,
   "metadata": {},
   "outputs": [
    {
     "name": "stdout",
     "output_type": "stream",
     "text": [
      "Dia: 6\n",
      "sexta\n"
     ]
    }
   ],
   "source": [
    "dias_da_semana = ['domingo', 'segunda', 'terça', 'quarta', 'quinta', 'sexta', 'sábado']\n",
    "dia = int(input('Dia: '))\n",
    "print(dias_da_semana[dia-1])"
   ]
  },
  {
   "cell_type": "markdown",
   "metadata": {},
   "source": [
    "##### Faça um programa que lê as duas notas parciais obtidas por um aluno numa disciplina ao longo de um semestre, e calcule a sua média."
   ]
  },
  {
   "cell_type": "code",
   "execution_count": 20,
   "metadata": {},
   "outputs": [
    {
     "name": "stdout",
     "output_type": "stream",
     "text": [
      "4\n",
      "5\n",
      "D - Reprovado\n"
     ]
    }
   ],
   "source": [
    "nota1 = float(input())\n",
    "nota2 = float(input())\n",
    "media = (nota1 + nota2) / 2\n",
    "if media < 4:\n",
    "    print(\"E - Reprovado\")\n",
    "elif media < 6:\n",
    "    print(\"D - Reprovado\")\n",
    "elif media < 7.5:\n",
    "    print(\"C - Aprovado\")\n",
    "elif media < 9:\n",
    "    print(\"B - Aprovado\")\n",
    "else:\n",
    "    print(\"A - Aprovado\")"
   ]
  },
  {
   "cell_type": "markdown",
   "metadata": {},
   "source": [
    "##### Faça um Programa que peça os 3 lados de um triângulo. O programa deverá informar se os valores podem ser um triângulo."
   ]
  },
  {
   "cell_type": "code",
   "execution_count": 25,
   "metadata": {},
   "outputs": [
    {
     "name": "stdout",
     "output_type": "stream",
     "text": [
      "Lado 1: 0\n",
      "Lado 2: 0\n",
      "Lado 3: 1\n",
      "Não é um triângulo\n",
      "Lado 1: 1\n",
      "Lado 2: 2\n",
      "Lado 3: 3\n",
      "Não é um triângulo\n",
      "Lado 1: 3\n",
      "Lado 2: 3\n",
      "Lado 3: 3\n",
      "É um triângulo equilátero.\n"
     ]
    }
   ],
   "source": [
    "while True:\n",
    "    a = int(input('Lado 1: '))\n",
    "    b = int(input('Lado 2: '))\n",
    "    c = int(input('Lado 3: '))\n",
    "    if a + b > c and a + c > b and b + c > a:\n",
    "        if a == b and a == c:\n",
    "            print('É um triângulo equilátero.')\n",
    "        elif a == b or a == c or b == c:\n",
    "            print( 'É um triângulo isósceles.')\n",
    "        else:\n",
    "            print('É um triângulo escaleno.')\n",
    "        break\n",
    "    else:\n",
    "        print('Não é um triângulo')"
   ]
  },
  {
   "cell_type": "markdown",
   "metadata": {},
   "source": [
    "##### Faça um programa que calcule as raízes de uma equação do segundo grau, na forma ax2 + bx + c. "
   ]
  },
  {
   "cell_type": "code",
   "execution_count": null,
   "metadata": {},
   "outputs": [],
   "source": []
  }
 ],
 "metadata": {
  "kernelspec": {
   "display_name": "Python 3",
   "language": "python",
   "name": "python3"
  },
  "language_info": {
   "codemirror_mode": {
    "name": "ipython",
    "version": 3
   },
   "file_extension": ".py",
   "mimetype": "text/x-python",
   "name": "python",
   "nbconvert_exporter": "python",
   "pygments_lexer": "ipython3",
   "version": "3.8.5"
  }
 },
 "nbformat": 4,
 "nbformat_minor": 4
}
