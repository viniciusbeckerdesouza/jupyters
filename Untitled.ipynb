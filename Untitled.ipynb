{
 "cells": [
  {
   "cell_type": "code",
   "execution_count": null,
   "metadata": {},
   "outputs": [
    {
     "name": "stderr",
     "output_type": "stream",
     "text": [
      "also installing the dependencies 'farver', 'tweenr'\n",
      "\n"
     ]
    },
    {
     "name": "stdout",
     "output_type": "stream",
     "text": [
      "package 'farver' successfully unpacked and MD5 sums checked\n",
      "package 'tweenr' successfully unpacked and MD5 sums checked\n",
      "package 'gifski' successfully unpacked and MD5 sums checked\n",
      "package 'gganimate' successfully unpacked and MD5 sums checked\n",
      "package 'RColorBrewer' successfully unpacked and MD5 sums checked\n",
      "\n",
      "The downloaded binary packages are in\n",
      "\tC:\\Users\\souzavb\\AppData\\Local\\Temp\\RtmpAhFS5C\\downloaded_packages\n"
     ]
    },
    {
     "name": "stderr",
     "output_type": "stream",
     "text": [
      "Warning message:\n",
      "\"package 'gifski' was built under R version 3.6.3\"Warning message:\n",
      "\"package 'gganimate' was built under R version 3.6.3\"Loading required package: ggplot2\n",
      "Registered S3 methods overwritten by 'ggplot2':\n",
      "  method         from \n",
      "  [.quosures     rlang\n",
      "  c.quosures     rlang\n",
      "  print.quosures rlang\n"
     ]
    }
   ],
   "source": [
    "# Plotando uma Queima de Fogos Virtual com o Software #R e o pacote #gganimate\n",
    "\n",
    "install.packages(c(\"gifski\", \"gganimate\", \"RColorBrewer\"))\n",
    "library(gifski)\n",
    "library(gganimate)\n",
    "library(RColorBrewer)\n",
    "\n",
    "# Criando a Função 'fogos'\n",
    "fogos = function(n_fogos = 30) {\n",
    "\n",
    "lista_de_fogos = list()\n",
    "\n",
    "for (j in 1:n_fogos) {\n",
    "estouro = list()\n",
    "x_inicial = runif(1, min=0, max=100)\n",
    "y_inicial = runif(1, min=0, max=100)\n",
    "angulo = seq(0, 360, 10)\n",
    "raio = 1:100\n",
    "\n",
    "for (i in raio) {\n",
    "x = x_inicial + i*cos(angulo)\n",
    "y = y_inicial + i*sin(angulo)\n",
    "dados = data.frame(x, y, i)\n",
    "estouro[[i]] <- dados\n",
    "}\n",
    "lista_de_fogos[[j]] = do.call(rbind, estouro)\n",
    "}\n",
    "\n",
    "dados_final = do.call(rbind, lista_de_fogos)\n",
    "dados_final$cores = 1:nrow(dados_final)\n",
    "\n",
    "ggplot(dados_final, aes(x, y, colour = cores)) +\n",
    "geom_point() +\n",
    "scale_colour_gradientn(colours = brewer.pal(n = 9, name = \"Set1\")) +\n",
    "ggtitle(\"Feliz 2021!!!\") +\n",
    "theme(plot.title = element_text(size = 40, face = \"bold\"), legend.position=\"none\") +\n",
    "transition_states(i)\n",
    "}\n",
    "\n",
    "# Renderiza a animação\n",
    "(gif = animate(plot = fogos(), renderer = gifski_renderer(), fps = 50, duration = 4, height = 800, width =800))\n",
    "\n",
    "# Exporta o .gif\n",
    "anim_save(\"feliz2021.gif\", gif)"
   ]
  },
  {
   "cell_type": "code",
   "execution_count": null,
   "metadata": {},
   "outputs": [],
   "source": [
    "anim_save"
   ]
  },
  {
   "cell_type": "code",
   "execution_count": null,
   "metadata": {},
   "outputs": [],
   "source": []
  }
 ],
 "metadata": {
  "kernelspec": {
   "display_name": "R",
   "language": "R",
   "name": "ir"
  },
  "language_info": {
   "codemirror_mode": "r",
   "file_extension": ".r",
   "mimetype": "text/x-r-source",
   "name": "R",
   "pygments_lexer": "r",
   "version": "3.6.1"
  }
 },
 "nbformat": 4,
 "nbformat_minor": 4
}
