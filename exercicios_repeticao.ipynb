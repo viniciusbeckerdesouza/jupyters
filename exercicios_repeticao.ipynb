{
 "cells": [
  {
   "cell_type": "markdown",
   "metadata": {},
   "source": [
    "##### Faça um programa que peça uma nota, entre zero e dez. Mostre uma mensagem caso o valor seja inválido e continue pedindo até que o usuário informe um valor válido."
   ]
  },
  {
   "cell_type": "code",
   "execution_count": 5,
   "metadata": {},
   "outputs": [
    {
     "name": "stdout",
     "output_type": "stream",
     "text": [
      "Nota: -1\n",
      "Valor inválido! Insira uma nota entre 0 e 10!\n",
      "Nota: 2\n"
     ]
    }
   ],
   "source": [
    "while True:\n",
    "    nota = float(input(\"Nota: \"))\n",
    "    if nota < 0 or nota > 10:\n",
    "        print(\"Valor inválido! Insira uma nota entre 0 e 10!\")\n",
    "    else:\n",
    "        break"
   ]
  },
  {
   "cell_type": "markdown",
   "metadata": {},
   "source": [
    "##### Faça um programa que leia um nome de usuário e a sua senha e não aceite a senha igual ao nome do usuário, mostrando uma mensagem de erro e voltando a pedir as informações.\n"
   ]
  },
  {
   "cell_type": "code",
   "execution_count": 6,
   "metadata": {},
   "outputs": [
    {
     "name": "stdout",
     "output_type": "stream",
     "text": [
      "Usuário: vini\n",
      "Senha: vini\n",
      "Usuário e senha não podem ser iguais!\n",
      "Usuário: vini\n",
      "Senha: 1234\n"
     ]
    }
   ],
   "source": [
    "while True:\n",
    "    user = input(\"Usuário: \")\n",
    "    password = input(\"Senha: \")\n",
    "    if user == password:\n",
    "        print(\"Usuário e senha não podem ser iguais!\")\n",
    "    else:\n",
    "        break\n",
    "    "
   ]
  },
  {
   "cell_type": "markdown",
   "metadata": {},
   "source": [
    "##### Faça um programa que leia e valide as seguintes informações"
   ]
  },
  {
   "cell_type": "code",
   "execution_count": 17,
   "metadata": {},
   "outputs": [
    {
     "name": "stdout",
     "output_type": "stream",
     "text": [
      "Nome: vini\n",
      "Idade: 33\n",
      "Salário: 3455\n",
      "Sexo: g\n",
      "Inválido\n",
      "Estado civil: f\n",
      "inválido\n",
      "Nome: bfgh\n",
      "Idade: 122\n",
      "Salário: 12434\n",
      "Sexo: m\n",
      "Estado civil: s\n",
      "Cadastro concluído\n"
     ]
    }
   ],
   "source": [
    "while True:\n",
    "    name = input(\"Nome: \")\n",
    "    if len(name) < 4:\n",
    "        print(\"Nome precisa ter mais de 3 letras!\")\n",
    "    else:\n",
    "        pass\n",
    "    age = int(input(\"Idade: \"))\n",
    "    if age < 0 or age >150:\n",
    "        print(\"Idade inválida!\")\n",
    "    else:\n",
    "        pass\n",
    "    salary = float(input(\"Salário: \"))\n",
    "    if salary < 0:\n",
    "        print(\"Salário não pode ser negativo!\")\n",
    "    else:\n",
    "        pass\n",
    "    sex = input(\"Sexo: \")\n",
    "    if sex in ['m', 'f']:\n",
    "        pass\n",
    "    else:\n",
    "        print(\"Inválido\")\n",
    "    status = input(\"Estado civil: \")\n",
    "    if status in ['s', 'c', 'v', 'd']:\n",
    "        print(\"Cadastro concluído\")\n",
    "        break\n",
    "    else:\n",
    "        print(\"inválido\")\n",
    "\n",
    "    "
   ]
  },
  {
   "cell_type": "markdown",
   "metadata": {},
   "source": [
    "##### Supondo que a população de um país A seja da ordem de 80000 habitantes com uma taxa anual de crescimento de 3% e que a população de B seja 200000 habitantes com uma taxa de crescimento de 1.5%. Faça um programa que calcule e escreva o número de anos necessários para que a população do país A ultrapasse ou iguale a população do país B, mantidas as taxas de crescimento."
   ]
  },
  {
   "cell_type": "code",
   "execution_count": null,
   "metadata": {},
   "outputs": [],
   "source": []
  }
 ],
 "metadata": {
  "kernelspec": {
   "display_name": "Python 3",
   "language": "python",
   "name": "python3"
  },
  "language_info": {
   "codemirror_mode": {
    "name": "ipython",
    "version": 3
   },
   "file_extension": ".py",
   "mimetype": "text/x-python",
   "name": "python",
   "nbconvert_exporter": "python",
   "pygments_lexer": "ipython3",
   "version": "3.8.5"
  }
 },
 "nbformat": 4,
 "nbformat_minor": 4
}
