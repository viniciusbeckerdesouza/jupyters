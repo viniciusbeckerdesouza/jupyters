{
 "cells": [
  {
   "cell_type": "markdown",
   "metadata": {},
   "source": [
    "##### Faça um programa que peça uma nota, entre zero e dez. Mostre uma mensagem caso o valor seja inválido e continue pedindo até que o usuário informe um valor válido."
   ]
  },
  {
   "cell_type": "code",
   "execution_count": 5,
   "metadata": {},
   "outputs": [
    {
     "name": "stdout",
     "output_type": "stream",
     "text": [
      "Nota: -1\n",
      "Valor inválido! Insira uma nota entre 0 e 10!\n",
      "Nota: 2\n"
     ]
    }
   ],
   "source": [
    "while True:\n",
    "    nota = float(input(\"Nota: \"))\n",
    "    if nota < 0 or nota > 10:\n",
    "        print(\"Valor inválido! Insira uma nota entre 0 e 10!\")\n",
    "    else:\n",
    "        break"
   ]
  },
  {
   "cell_type": "markdown",
   "metadata": {},
   "source": [
    "##### Faça um programa que leia um nome de usuário e a sua senha e não aceite a senha igual ao nome do usuário, mostrando uma mensagem de erro e voltando a pedir as informações.\n"
   ]
  },
  {
   "cell_type": "code",
   "execution_count": 6,
   "metadata": {},
   "outputs": [
    {
     "name": "stdout",
     "output_type": "stream",
     "text": [
      "Usuário: vini\n",
      "Senha: vini\n",
      "Usuário e senha não podem ser iguais!\n",
      "Usuário: vini\n",
      "Senha: 1234\n"
     ]
    }
   ],
   "source": [
    "while True:\n",
    "    user = input(\"Usuário: \")\n",
    "    password = input(\"Senha: \")\n",
    "    if user == password:\n",
    "        print(\"Usuário e senha não podem ser iguais!\")\n",
    "    else:\n",
    "        break\n",
    "    "
   ]
  },
  {
   "cell_type": "markdown",
   "metadata": {},
   "source": [
    "##### Faça um programa que leia e valide as seguintes informações"
   ]
  },
  {
   "cell_type": "code",
   "execution_count": 17,
   "metadata": {},
   "outputs": [
    {
     "name": "stdout",
     "output_type": "stream",
     "text": [
      "Nome: vini\n",
      "Idade: 33\n",
      "Salário: 3455\n",
      "Sexo: g\n",
      "Inválido\n",
      "Estado civil: f\n",
      "inválido\n",
      "Nome: bfgh\n",
      "Idade: 122\n",
      "Salário: 12434\n",
      "Sexo: m\n",
      "Estado civil: s\n",
      "Cadastro concluído\n"
     ]
    }
   ],
   "source": [
    "while True:\n",
    "    name = input(\"Nome: \")\n",
    "    if len(name) < 4:\n",
    "        print(\"Nome precisa ter mais de 3 letras!\")\n",
    "    else:\n",
    "        pass\n",
    "    age = int(input(\"Idade: \"))\n",
    "    if age < 0 or age >150:\n",
    "        print(\"Idade inválida!\")\n",
    "    else:\n",
    "        pass\n",
    "    salary = float(input(\"Salário: \"))\n",
    "    if salary < 0:\n",
    "        print(\"Salário não pode ser negativo!\")\n",
    "    else:\n",
    "        pass\n",
    "    sex = input(\"Sexo: \")\n",
    "    if sex in ['m', 'f']:\n",
    "        pass\n",
    "    else:\n",
    "        print(\"Inválido\")\n",
    "    status = input(\"Estado civil: \")\n",
    "    if status in ['s', 'c', 'v', 'd']:\n",
    "        print(\"Cadastro concluído\")\n",
    "        break\n",
    "    else:\n",
    "        print(\"inválido\")\n",
    "\n",
    "    "
   ]
  },
  {
   "cell_type": "markdown",
   "metadata": {},
   "source": [
    "##### Supondo que a população de um país A seja da ordem de 80000 habitantes com uma taxa anual de crescimento de 3% e que a população de B seja 200000 habitantes com uma taxa de crescimento de 1.5%. Faça um programa que calcule e escreva o número de anos necessários para que a população do país A ultrapasse ou iguale a população do país B, mantidas as taxas de crescimento."
   ]
  },
  {
   "cell_type": "code",
   "execution_count": 2,
   "metadata": {},
   "outputs": [
    {
     "name": "stdout",
     "output_type": "stream",
     "text": [
      "216 anos\n"
     ]
    }
   ],
   "source": [
    "pop_a = 80000\n",
    "tx_a = 0.03\n",
    "pop_b = 200000\n",
    "tx_b = 0.015\n",
    "x = 0\n",
    "while pop_a != pop_b:\n",
    "    pop_a = pop_a * tx_a\n",
    "    pop_b = pop_b * tx_b\n",
    "    x += 1\n",
    "print(f\"{x} anos\")"
   ]
  },
  {
   "cell_type": "markdown",
   "metadata": {},
   "source": [
    "##### Altere o programa anterior permitindo ao usuário informar as populações e as taxas de crescimento iniciais. Valide a entrada e permita repetir a operação."
   ]
  },
  {
   "cell_type": "code",
   "execution_count": 19,
   "metadata": {},
   "outputs": [
    {
     "name": "stdout",
     "output_type": "stream",
     "text": [
      "População A: 2000\n",
      "Crescimento A(%): 7\n",
      "População B: 3000\n",
      "Crescimento B(%): 6.9\n",
      "284 anos\n",
      "População A: 0\n"
     ]
    }
   ],
   "source": [
    "while True:\n",
    "    pop_a = int(input(\"População A: \"))\n",
    "    if pop_a == 0:\n",
    "        break\n",
    "    tx_a = float(input(\"Crescimento A(%): \"))\n",
    "    pop_b = int(input(\"População B: \"))\n",
    "    tx_b = float(input(\"Crescimento B(%): \"))\n",
    "    x = 0\n",
    "    while pop_a != pop_b:\n",
    "        pop_a = pop_a * (tx_a / 100)\n",
    "        pop_b = pop_b * (tx_b / 100)\n",
    "        x += 1\n",
    "    print(f\"{x} anos\")\n"
   ]
  },
  {
   "cell_type": "markdown",
   "metadata": {},
   "source": [
    "##### Faça um programa que imprima na tela os números de 1 a 20, um abaixo do outro. Depois modifique o programa para que ele mostre os números um ao lado do outro."
   ]
  },
  {
   "cell_type": "code",
   "execution_count": 23,
   "metadata": {},
   "outputs": [
    {
     "name": "stdout",
     "output_type": "stream",
     "text": [
      "1\n",
      "2\n",
      "3\n",
      "4\n",
      "5\n",
      "6\n",
      "7\n",
      "8\n",
      "9\n",
      "10\n",
      "11\n",
      "12\n",
      "13\n",
      "14\n",
      "15\n",
      "16\n",
      "17\n",
      "18\n",
      "19\n",
      "20\n"
     ]
    }
   ],
   "source": [
    "x = 1\n",
    "while x <= 20:\n",
    "    print(x)\n",
    "    x += 1"
   ]
  },
  {
   "cell_type": "code",
   "execution_count": 22,
   "metadata": {},
   "outputs": [
    {
     "name": "stdout",
     "output_type": "stream",
     "text": [
      "1 2 3 4 5 6 7 8 9 10 11 12 13 14 15 16 17 18 19 20 "
     ]
    }
   ],
   "source": [
    "x = 1\n",
    "while x <= 20:\n",
    "    print(x, end=\" \")\n",
    "    x += 1\n",
    "    \n"
   ]
  },
  {
   "cell_type": "markdown",
   "metadata": {},
   "source": [
    "##### Faça um programa que leia 5 números e informe o maior número."
   ]
  },
  {
   "cell_type": "code",
   "execution_count": 33,
   "metadata": {},
   "outputs": [
    {
     "name": "stdout",
     "output_type": "stream",
     "text": [
      "23\n",
      "43\n",
      "2\n",
      "5\n",
      "67\n",
      "O maior nº é: 67\n"
     ]
    }
   ],
   "source": [
    "a = []\n",
    "for i in range(5):\n",
    "    x = int(input())\n",
    "    a.append(x)\n",
    "\n",
    "print(\"O maior nº é:\", max(a))"
   ]
  },
  {
   "cell_type": "markdown",
   "metadata": {},
   "source": [
    "##### Faça um programa que leia 5 números e informe a soma e a média dos números."
   ]
  },
  {
   "cell_type": "code",
   "execution_count": 37,
   "metadata": {},
   "outputs": [
    {
     "name": "stdout",
     "output_type": "stream",
     "text": [
      "2\n",
      "4\n",
      "6\n",
      "8\n",
      "9\n",
      "Soma =  29\n",
      "Média =  5.8\n",
      "Mediana =  6\n",
      "Desvio padrão =  2.863564212655271\n"
     ]
    }
   ],
   "source": [
    "import statistics as st\n",
    "b = []\n",
    "for i in range(5):\n",
    "    y = int(input())\n",
    "    b.append(y)\n",
    "print(\"Soma = \", sum(b))\n",
    "print(\"Média = \", st.mean(b))\n",
    "print(\"Mediana = \", st.median(b))\n",
    "print(\"Desvio padrão = \", st.stdev(b))"
   ]
  },
  {
   "cell_type": "markdown",
   "metadata": {},
   "source": [
    "##### Faça um programa que imprima na tela apenas os números ímpares entre 1 e 50."
   ]
  },
  {
   "cell_type": "code",
   "execution_count": 39,
   "metadata": {},
   "outputs": [
    {
     "name": "stdout",
     "output_type": "stream",
     "text": [
      "1 3 5 7 9 11 13 15 17 19 21 23 25 27 29 31 33 35 37 39 41 43 45 47 49 "
     ]
    }
   ],
   "source": [
    "for i in range(50):\n",
    "    if i % 2 != 0:\n",
    "        print(i, end=\" \")\n",
    "    "
   ]
  },
  {
   "cell_type": "markdown",
   "metadata": {},
   "source": [
    "##### Faça um programa que receba dois números inteiros e gere os números inteiros que estão no intervalo compreendido por eles."
   ]
  },
  {
   "cell_type": "code",
   "execution_count": 43,
   "metadata": {},
   "outputs": [
    {
     "name": "stdout",
     "output_type": "stream",
     "text": [
      "99\n",
      "112\n",
      "99 100 101 102 103 104 105 106 107 108 109 110 111 "
     ]
    }
   ],
   "source": [
    "int_1 = int(input())\n",
    "int_2 = int(input())\n",
    "for i in range(int_1, int_2):\n",
    "    print(i, end=\" \")"
   ]
  },
  {
   "cell_type": "markdown",
   "metadata": {},
   "source": [
    "##### Altere o programa anterior para mostrar no final a soma dos números."
   ]
  },
  {
   "cell_type": "code",
   "execution_count": 46,
   "metadata": {},
   "outputs": [
    {
     "name": "stdout",
     "output_type": "stream",
     "text": [
      "3\n",
      "9\n"
     ]
    },
    {
     "data": {
      "text/plain": [
       "33"
      ]
     },
     "execution_count": 46,
     "metadata": {},
     "output_type": "execute_result"
    }
   ],
   "source": [
    "int_1 = int(input())\n",
    "int_2 = int(input())\n",
    "c = []\n",
    "for i in range(int_1, int_2):\n",
    "    c.append(i)\n",
    "sum(c)"
   ]
  },
  {
   "cell_type": "markdown",
   "metadata": {},
   "source": [
    "##### Desenvolva um gerador de tabuada, capaz de gerar a tabuada de qualquer número inteiro entre 1 a 10."
   ]
  },
  {
   "cell_type": "code",
   "execution_count": 49,
   "metadata": {},
   "outputs": [
    {
     "name": "stdout",
     "output_type": "stream",
     "text": [
      "7\n",
      "7 x 1 =  7\n",
      "7 x 2 =  14\n",
      "7 x 3 =  21\n",
      "7 x 4 =  28\n",
      "7 x 5 =  35\n",
      "7 x 6 =  42\n",
      "7 x 7 =  49\n",
      "7 x 8 =  56\n",
      "7 x 9 =  63\n",
      "7 x 10 =  70\n"
     ]
    }
   ],
   "source": [
    "num = int(input())\n",
    "for i in range(1,11):\n",
    "    print(f\"{num} x {i} = \", num * i)"
   ]
  },
  {
   "cell_type": "markdown",
   "metadata": {},
   "source": [
    "##### Faça um programa que peça dois números, base e expoente, calcule e mostre o primeiro número elevado ao segundo número."
   ]
  },
  {
   "cell_type": "code",
   "execution_count": null,
   "metadata": {},
   "outputs": [],
   "source": []
  },
  {
   "cell_type": "code",
   "execution_count": null,
   "metadata": {},
   "outputs": [],
   "source": []
  },
  {
   "cell_type": "code",
   "execution_count": null,
   "metadata": {},
   "outputs": [],
   "source": []
  }
 ],
 "metadata": {
  "kernelspec": {
   "display_name": "Python 3",
   "language": "python",
   "name": "python3"
  },
  "language_info": {
   "codemirror_mode": {
    "name": "ipython",
    "version": 3
   },
   "file_extension": ".py",
   "mimetype": "text/x-python",
   "name": "python",
   "nbconvert_exporter": "python",
   "pygments_lexer": "ipython3",
   "version": "3.7.1"
  }
 },
 "nbformat": 4,
 "nbformat_minor": 4
}
