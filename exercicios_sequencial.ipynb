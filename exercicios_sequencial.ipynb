{
 "cells": [
  {
   "cell_type": "markdown",
   "metadata": {},
   "source": [
    "##### Olá mundo"
   ]
  },
  {
   "cell_type": "code",
   "execution_count": 1,
   "metadata": {},
   "outputs": [
    {
     "name": "stdout",
     "output_type": "stream",
     "text": [
      "Olá. mundo.\n"
     ]
    }
   ],
   "source": [
    "print('Olá. mundo.')"
   ]
  },
  {
   "cell_type": "markdown",
   "metadata": {},
   "source": [
    "##### Faça um Programa que peça um número e então mostre a mensagem O número informado foi [número]."
   ]
  },
  {
   "cell_type": "code",
   "execution_count": 2,
   "metadata": {},
   "outputs": [
    {
     "name": "stdout",
     "output_type": "stream",
     "text": [
      "Digite um número: 44\n",
      "O número informado foi  44\n"
     ]
    }
   ],
   "source": [
    "x = int(input('Digite um número: '))\n",
    "print('O número informado foi ', x)"
   ]
  },
  {
   "cell_type": "markdown",
   "metadata": {},
   "source": [
    "##### Faça um Programa que peça dois números e imprima a soma."
   ]
  },
  {
   "cell_type": "code",
   "execution_count": 3,
   "metadata": {},
   "outputs": [
    {
     "name": "stdout",
     "output_type": "stream",
     "text": [
      "Digite x: 15\n",
      "Digite y: 36\n",
      "51\n"
     ]
    }
   ],
   "source": [
    "x = int(input('Digite x: '))\n",
    "y = int(input('Digite y: '))\n",
    "print(x + y)"
   ]
  },
  {
   "cell_type": "markdown",
   "metadata": {},
   "source": [
    "##### Faça um Programa que peça as 4 notas bimestrais e mostre a média."
   ]
  },
  {
   "cell_type": "code",
   "execution_count": 5,
   "metadata": {},
   "outputs": [
    {
     "name": "stdout",
     "output_type": "stream",
     "text": [
      "Nota 1º bimestre: 6\n",
      "Nota 2º bimestre: 7\n",
      "Nota 3º bimestre: 8\n",
      "Nota 4º bimestre: 7\n",
      "A média foi:  7.0\n"
     ]
    }
   ],
   "source": [
    "nota1 = float(input('Nota 1º bimestre: '))\n",
    "nota2 = float(input('Nota 2º bimestre: '))\n",
    "nota3 = float(input('Nota 3º bimestre: '))\n",
    "nota4 = float(input('Nota 4º bimestre: '))\n",
    "media = (nota1 + nota2 + nota3 + nota4) / 4\n",
    "print('A média foi: ', media)"
   ]
  },
  {
   "cell_type": "markdown",
   "metadata": {},
   "source": [
    "##### Faça um Programa que converta metros para centímetros."
   ]
  },
  {
   "cell_type": "code",
   "execution_count": 6,
   "metadata": {},
   "outputs": [
    {
     "name": "stdout",
     "output_type": "stream",
     "text": [
      "Digite o valor em metros: 12.34\n",
      "O valor em centímetros é:  1234.0\n"
     ]
    }
   ],
   "source": [
    "metro = float(input('Digite o valor em metros: '))\n",
    "cm = metro * 100\n",
    "print('O valor em centímetros é: ', cm)"
   ]
  },
  {
   "cell_type": "markdown",
   "metadata": {},
   "source": [
    "##### Faça um Programa que peça o raio de um círculo, calcule e mostre sua área."
   ]
  },
  {
   "cell_type": "code",
   "execution_count": 7,
   "metadata": {},
   "outputs": [
    {
     "name": "stdout",
     "output_type": "stream",
     "text": [
      "Digite o raio do círculo: 5\n",
      "A área do círculo é  78.53981633974483\n"
     ]
    }
   ],
   "source": [
    "import math\n",
    "r = float(input('Digite o raio do círculo: '))\n",
    "A = math.pi * r*r\n",
    "print('A área do círculo é ', A)"
   ]
  },
  {
   "cell_type": "markdown",
   "metadata": {},
   "source": [
    "##### Faça um Programa que calcule a área de um quadrado, em seguida mostre o dobro desta área para o usuário."
   ]
  },
  {
   "cell_type": "code",
   "execution_count": 8,
   "metadata": {},
   "outputs": [
    {
     "name": "stdout",
     "output_type": "stream",
     "text": [
      "Digite o valor do lado do quadrado: 12\n",
      "288\n"
     ]
    }
   ],
   "source": [
    "lado = int(input('Digite o valor do lado do quadrado: '))\n",
    "A = lado * lado\n",
    "print(A * 2)"
   ]
  },
  {
   "cell_type": "markdown",
   "metadata": {},
   "source": [
    "##### Faça um Programa que pergunte quanto você ganha por hora e o número de horas trabalhadas no mês. Calcule e mostre o total do seu salário no referido mês."
   ]
  },
  {
   "cell_type": "code",
   "execution_count": 11,
   "metadata": {},
   "outputs": [
    {
     "name": "stdout",
     "output_type": "stream",
     "text": [
      "Valor por hora: 23\n",
      "Horas trabalhadas: 120\n",
      "O seu salário mensal é R$ 2760.0\n"
     ]
    }
   ],
   "source": [
    "valor = float(input('Valor por hora: '))\n",
    "hora = int(input('Horas trabalhadas: '))\n",
    "print('O seu salário mensal é R$', valor * hora)"
   ]
  },
  {
   "cell_type": "markdown",
   "metadata": {},
   "source": [
    "##### Faça um Programa que peça a temperatura em graus Fahrenheit, transforme e mostre a temperatura em graus Celsius"
   ]
  },
  {
   "cell_type": "code",
   "execution_count": 16,
   "metadata": {},
   "outputs": [
    {
     "name": "stdout",
     "output_type": "stream",
     "text": [
      "Fahrenheit: 79\n",
      "Celsius:  26.11111111111111\n"
     ]
    }
   ],
   "source": [
    "F = int(input(\"Fahrenheit: \"))\n",
    "C = 5 * ((F-32) / 9)\n",
    "print(\"Celsius: \", C)"
   ]
  },
  {
   "cell_type": "markdown",
   "metadata": {},
   "source": [
    "##### Faça um Programa que peça a temperatura em graus Celsius, transforme e mostre em graus Fahrenheit."
   ]
  },
  {
   "cell_type": "code",
   "execution_count": 17,
   "metadata": {},
   "outputs": [
    {
     "name": "stdout",
     "output_type": "stream",
     "text": [
      "Celsius: 26\n",
      "Fahrenheit:  78.8\n"
     ]
    }
   ],
   "source": [
    "C = int(input(\"Celsius: \"))\n",
    "F = C * 9/5 + 32\n",
    "print(\"Fahrenheit: \", F)"
   ]
  },
  {
   "cell_type": "markdown",
   "metadata": {},
   "source": [
    "##### Faça um Programa que peça 2 números inteiros e um número real. Calcule e mostre"
   ]
  },
  {
   "cell_type": "code",
   "execution_count": 19,
   "metadata": {},
   "outputs": [
    {
     "name": "stdout",
     "output_type": "stream",
     "text": [
      "nº 1: 1\n",
      "nº 2: 2\n",
      "nº real: 3.1\n",
      "3.0\n",
      "6.1\n",
      "29.791000000000004\n"
     ]
    }
   ],
   "source": [
    "int1 = int(input('nº 1: '))\n",
    "int2 = int(input('nº 2: '))\n",
    "real = float(input('nº real: '))\n",
    "\n",
    "print((2 * int1) + (int2 / 2))\n",
    "print((3 * int1) + real)\n",
    "print(real**3)"
   ]
  },
  {
   "cell_type": "markdown",
   "metadata": {},
   "source": [
    "##### Tendo como dados de entrada a altura de uma pessoa, construa um algoritmo que calcule seu peso ideal"
   ]
  },
  {
   "cell_type": "code",
   "execution_count": 26,
   "metadata": {},
   "outputs": [
    {
     "name": "stdout",
     "output_type": "stream",
     "text": [
      "Altura: 1.1\n",
      "Sexo: w\n",
      "ERROR\n",
      "Seu peso ideal é:  58\n"
     ]
    }
   ],
   "source": [
    "altura = float(input('Altura: '))\n",
    "sexo = input('Sexo: ')\n",
    "if sexo == 'm':\n",
    "    peso_ideal = int((72.7 * altura) - 58)\n",
    "elif sexo == 'f':\n",
    "    peso_ideal = int((62.1 * altura) - 44.7)\n",
    "else:\n",
    "    print('ERROR')\n",
    "    \n",
    "print(\"Seu peso ideal é: \", peso_ideal)"
   ]
  },
  {
   "cell_type": "markdown",
   "metadata": {},
   "source": [
    "#####  faça um programa que leia a variável peso (peso de peixes) e calcule o excesso. Gravar na variável excesso a quantidade de quilos além do limite e na variável multa o valor da multa"
   ]
  },
  {
   "cell_type": "code",
   "execution_count": 33,
   "metadata": {},
   "outputs": [
    {
     "name": "stdout",
     "output_type": "stream",
     "text": [
      "Peso do peixe: 120\n",
      "O valor da multa é R$ 280.0\n"
     ]
    }
   ],
   "source": [
    "peso_max = 50\n",
    "multa_por_quilo = 4\n",
    "peso = float(input(\"Peso do peixe: \"))\n",
    "excedente = peso - peso_max\n",
    "if excedente > 0:\n",
    "    multa = excedente * multa_por_quilo\n",
    "    print(\"O valor da multa é R$\", multa)\n",
    "else:\n",
    "    print(\"Não há multa!\")"
   ]
  },
  {
   "cell_type": "markdown",
   "metadata": {},
   "source": [
    "##### Faça um programa para uma loja de tintas. O programa deverá pedir o tamanho em metros quadrados da área a ser pintada."
   ]
  },
  {
   "cell_type": "code",
   "execution_count": null,
   "metadata": {},
   "outputs": [],
   "source": []
  }
 ],
 "metadata": {
  "kernelspec": {
   "display_name": "Python 3",
   "language": "python",
   "name": "python3"
  },
  "language_info": {
   "codemirror_mode": {
    "name": "ipython",
    "version": 3
   },
   "file_extension": ".py",
   "mimetype": "text/x-python",
   "name": "python",
   "nbconvert_exporter": "python",
   "pygments_lexer": "ipython3",
   "version": "3.8.5"
  }
 },
 "nbformat": 4,
 "nbformat_minor": 4
}
