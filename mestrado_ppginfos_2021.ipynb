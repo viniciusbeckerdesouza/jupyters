{
  "nbformat": 4,
  "nbformat_minor": 0,
  "metadata": {
    "colab": {
      "name": "mestrado_ppginfos_2021.ipynb",
      "provenance": [],
      "authorship_tag": "ABX9TyO41OjjphCzMK7ReioFy4CF",
      "include_colab_link": true
    },
    "kernelspec": {
      "name": "python3",
      "display_name": "Python 3"
    },
    "language_info": {
      "name": "python"
    }
  },
  "cells": [
    {
      "cell_type": "markdown",
      "metadata": {
        "id": "view-in-github",
        "colab_type": "text"
      },
      "source": [
        "<a href=\"https://colab.research.google.com/github/viniciusbeckerdesouza/jupyters/blob/main/mestrado_ppginfos_2021.ipynb\" target=\"_parent\"><img src=\"https://colab.research.google.com/assets/colab-badge.svg\" alt=\"Open In Colab\"/></a>"
      ]
    },
    {
      "cell_type": "code",
      "metadata": {
        "id": "waHH4db2Qg2x"
      },
      "source": [
        "import pandas as pd\n",
        "import numpy as np\n",
        "import matplotlib.pyplot as plt\n",
        "import seaborn as sns"
      ],
      "execution_count": 4,
      "outputs": []
    },
    {
      "cell_type": "code",
      "metadata": {
        "id": "kbv_lXNAQy16",
        "colab": {
          "base_uri": "https://localhost:8080/"
        },
        "outputId": "96278ed6-2ef3-4fa8-e7e7-ab88dd74e863"
      },
      "source": [
        "pip install tabula-py"
      ],
      "execution_count": 5,
      "outputs": [
        {
          "output_type": "stream",
          "text": [
            "Collecting tabula-py\n",
            "\u001b[?25l  Downloading https://files.pythonhosted.org/packages/cf/29/d6cb0d77ef46d84d35cffa09cf42c73b373aea664d28604eab6818f8a47c/tabula_py-2.2.0-py3-none-any.whl (11.7MB)\n",
            "\u001b[K     |████████████████████████████████| 11.7MB 251kB/s \n",
            "\u001b[?25hRequirement already satisfied: pandas>=0.25.3 in /usr/local/lib/python3.7/dist-packages (from tabula-py) (1.1.5)\n",
            "Collecting distro\n",
            "  Downloading https://files.pythonhosted.org/packages/25/b7/b3c4270a11414cb22c6352ebc7a83aaa3712043be29daa05018fd5a5c956/distro-1.5.0-py2.py3-none-any.whl\n",
            "Requirement already satisfied: numpy in /usr/local/lib/python3.7/dist-packages (from tabula-py) (1.19.5)\n",
            "Requirement already satisfied: pytz>=2017.2 in /usr/local/lib/python3.7/dist-packages (from pandas>=0.25.3->tabula-py) (2018.9)\n",
            "Requirement already satisfied: python-dateutil>=2.7.3 in /usr/local/lib/python3.7/dist-packages (from pandas>=0.25.3->tabula-py) (2.8.1)\n",
            "Requirement already satisfied: six>=1.5 in /usr/local/lib/python3.7/dist-packages (from python-dateutil>=2.7.3->pandas>=0.25.3->tabula-py) (1.15.0)\n",
            "Installing collected packages: distro, tabula-py\n",
            "Successfully installed distro-1.5.0 tabula-py-2.2.0\n"
          ],
          "name": "stdout"
        }
      ]
    },
    {
      "cell_type": "code",
      "metadata": {
        "id": "3gOJ6tYvQ6iG"
      },
      "source": [
        "import tabula as tb"
      ],
      "execution_count": 6,
      "outputs": []
    },
    {
      "cell_type": "markdown",
      "metadata": {
        "id": "JN5Q_dj7xcol"
      },
      "source": [
        "**Passo 1:**\n",
        "\n",
        "Importar os dados do pdf e tranformar em um dataframe"
      ]
    },
    {
      "cell_type": "code",
      "metadata": {
        "colab": {
          "base_uri": "https://localhost:8080/"
        },
        "id": "zt18vcp5RDeQ",
        "outputId": "e568c44c-ec47-4709-acb7-4357d46bfcb8"
      },
      "source": [
        "tabela = tb.read_pdf(\"https://ppginfos.paginas.ufsc.br/files/2021/06/Resultado_PPGINFOS.pdf\")"
      ],
      "execution_count": 7,
      "outputs": [
        {
          "output_type": "stream",
          "text": [
            "'pages' argument isn't specified.Will extract only from page 1 by default.\n"
          ],
          "name": "stderr"
        }
      ]
    },
    {
      "cell_type": "code",
      "metadata": {
        "colab": {
          "base_uri": "https://localhost:8080/",
          "height": 824
        },
        "id": "COy83z9LRRgB",
        "outputId": "39fdc723-b26d-4a18-bced-22e6e1829e2d"
      },
      "source": [
        "tabela[0]"
      ],
      "execution_count": 8,
      "outputs": [
        {
          "output_type": "execute_result",
          "data": {
            "text/html": [
              "<div>\n",
              "<style scoped>\n",
              "    .dataframe tbody tr th:only-of-type {\n",
              "        vertical-align: middle;\n",
              "    }\n",
              "\n",
              "    .dataframe tbody tr th {\n",
              "        vertical-align: top;\n",
              "    }\n",
              "\n",
              "    .dataframe thead th {\n",
              "        text-align: right;\n",
              "    }\n",
              "</style>\n",
              "<table border=\"1\" class=\"dataframe\">\n",
              "  <thead>\n",
              "    <tr style=\"text-align: right;\">\n",
              "      <th></th>\n",
              "      <th>No. Inscrição</th>\n",
              "      <th>Nota Média</th>\n",
              "      <th>Nota média</th>\n",
              "      <th>Nota média.1</th>\n",
              "      <th>Média</th>\n",
              "      <th>Unnamed: 0</th>\n",
              "    </tr>\n",
              "  </thead>\n",
              "  <tbody>\n",
              "    <tr>\n",
              "      <th>0</th>\n",
              "      <td>NaN</td>\n",
              "      <td>NaN</td>\n",
              "      <td>NaN</td>\n",
              "      <td>NaN</td>\n",
              "      <td>NaN</td>\n",
              "      <td>Resultado</td>\n",
              "    </tr>\n",
              "    <tr>\n",
              "      <th>1</th>\n",
              "      <td>do Candidato</td>\n",
              "      <td>do Currículo</td>\n",
              "      <td>do Projeto</td>\n",
              "      <td>da arguição</td>\n",
              "      <td>final</td>\n",
              "      <td>NaN</td>\n",
              "    </tr>\n",
              "    <tr>\n",
              "      <th>2</th>\n",
              "      <td>20210007278</td>\n",
              "      <td>9,0</td>\n",
              "      <td>9,1</td>\n",
              "      <td>9,8</td>\n",
              "      <td>9,3</td>\n",
              "      <td>Aprovado</td>\n",
              "    </tr>\n",
              "    <tr>\n",
              "      <th>3</th>\n",
              "      <td>20210007332</td>\n",
              "      <td>10</td>\n",
              "      <td>7,9</td>\n",
              "      <td>9,1</td>\n",
              "      <td>8,9</td>\n",
              "      <td>Aprovado</td>\n",
              "    </tr>\n",
              "    <tr>\n",
              "      <th>4</th>\n",
              "      <td>20210007365</td>\n",
              "      <td>8,0</td>\n",
              "      <td>7,1</td>\n",
              "      <td>8,3</td>\n",
              "      <td>7,7</td>\n",
              "      <td>Aprovado</td>\n",
              "    </tr>\n",
              "    <tr>\n",
              "      <th>5</th>\n",
              "      <td>20210007410</td>\n",
              "      <td>8,5</td>\n",
              "      <td>7,3</td>\n",
              "      <td>8,0</td>\n",
              "      <td>7,8</td>\n",
              "      <td>Aprovado</td>\n",
              "    </tr>\n",
              "    <tr>\n",
              "      <th>6</th>\n",
              "      <td>20210007458</td>\n",
              "      <td>8,8</td>\n",
              "      <td>7,0</td>\n",
              "      <td>Não</td>\n",
              "      <td>NaN</td>\n",
              "      <td>Reprovado</td>\n",
              "    </tr>\n",
              "    <tr>\n",
              "      <th>7</th>\n",
              "      <td>NaN</td>\n",
              "      <td>NaN</td>\n",
              "      <td>NaN</td>\n",
              "      <td>compareceu</td>\n",
              "      <td>NaN</td>\n",
              "      <td>NaN</td>\n",
              "    </tr>\n",
              "    <tr>\n",
              "      <th>8</th>\n",
              "      <td>20210007659</td>\n",
              "      <td>8,5</td>\n",
              "      <td>7,0</td>\n",
              "      <td>8,3</td>\n",
              "      <td>7,8</td>\n",
              "      <td>Aprovado</td>\n",
              "    </tr>\n",
              "    <tr>\n",
              "      <th>9</th>\n",
              "      <td>20210007701</td>\n",
              "      <td>7,0</td>\n",
              "      <td>8,7</td>\n",
              "      <td>8,5</td>\n",
              "      <td>8,2</td>\n",
              "      <td>Aprovado</td>\n",
              "    </tr>\n",
              "    <tr>\n",
              "      <th>10</th>\n",
              "      <td>20210007732</td>\n",
              "      <td>8,0</td>\n",
              "      <td>8,1</td>\n",
              "      <td>8,5</td>\n",
              "      <td>8,2</td>\n",
              "      <td>Aprovado</td>\n",
              "    </tr>\n",
              "    <tr>\n",
              "      <th>11</th>\n",
              "      <td>20210007735</td>\n",
              "      <td>8,0</td>\n",
              "      <td>7,0</td>\n",
              "      <td>8,8</td>\n",
              "      <td>7,8</td>\n",
              "      <td>Aprovado</td>\n",
              "    </tr>\n",
              "    <tr>\n",
              "      <th>12</th>\n",
              "      <td>20210007812</td>\n",
              "      <td>8,5</td>\n",
              "      <td>7,0</td>\n",
              "      <td>7,1</td>\n",
              "      <td>7,5</td>\n",
              "      <td>Aprovado</td>\n",
              "    </tr>\n",
              "    <tr>\n",
              "      <th>13</th>\n",
              "      <td>20210007838</td>\n",
              "      <td>9,5</td>\n",
              "      <td>8,4</td>\n",
              "      <td>8,3</td>\n",
              "      <td>8,7</td>\n",
              "      <td>Aprovado</td>\n",
              "    </tr>\n",
              "    <tr>\n",
              "      <th>14</th>\n",
              "      <td>20210007864</td>\n",
              "      <td>8,0</td>\n",
              "      <td>7,0</td>\n",
              "      <td>8,3</td>\n",
              "      <td>7,7</td>\n",
              "      <td>Aprovado</td>\n",
              "    </tr>\n",
              "    <tr>\n",
              "      <th>15</th>\n",
              "      <td>20210008217</td>\n",
              "      <td>9,5</td>\n",
              "      <td>8,0</td>\n",
              "      <td>8,9</td>\n",
              "      <td>8,7</td>\n",
              "      <td>Aprovado</td>\n",
              "    </tr>\n",
              "    <tr>\n",
              "      <th>16</th>\n",
              "      <td>20210008233</td>\n",
              "      <td>9,7</td>\n",
              "      <td>8,9</td>\n",
              "      <td>9,3</td>\n",
              "      <td>9,3</td>\n",
              "      <td>Aprovado</td>\n",
              "    </tr>\n",
              "    <tr>\n",
              "      <th>17</th>\n",
              "      <td>20210008237</td>\n",
              "      <td>9,0</td>\n",
              "      <td>7,3</td>\n",
              "      <td>8,1</td>\n",
              "      <td>8,1</td>\n",
              "      <td>Aprovado</td>\n",
              "    </tr>\n",
              "    <tr>\n",
              "      <th>18</th>\n",
              "      <td>20210008238</td>\n",
              "      <td>7,0</td>\n",
              "      <td>7,2</td>\n",
              "      <td>8,6</td>\n",
              "      <td>7,6</td>\n",
              "      <td>Aprovado</td>\n",
              "    </tr>\n",
              "    <tr>\n",
              "      <th>19</th>\n",
              "      <td>20210008243</td>\n",
              "      <td>NaN</td>\n",
              "      <td>NaN</td>\n",
              "      <td>Não</td>\n",
              "      <td>NaN</td>\n",
              "      <td>Reprovado</td>\n",
              "    </tr>\n",
              "    <tr>\n",
              "      <th>20</th>\n",
              "      <td>NaN</td>\n",
              "      <td>7,5</td>\n",
              "      <td>7,0</td>\n",
              "      <td>compareceu</td>\n",
              "      <td>NaN</td>\n",
              "      <td>NaN</td>\n",
              "    </tr>\n",
              "    <tr>\n",
              "      <th>21</th>\n",
              "      <td>20210008244</td>\n",
              "      <td>8,7</td>\n",
              "      <td>7,0</td>\n",
              "      <td>7,1</td>\n",
              "      <td>7,5</td>\n",
              "      <td>Aprovado</td>\n",
              "    </tr>\n",
              "    <tr>\n",
              "      <th>22</th>\n",
              "      <td>20210008245</td>\n",
              "      <td>9,0</td>\n",
              "      <td>8,3</td>\n",
              "      <td>8,3</td>\n",
              "      <td>8,5</td>\n",
              "      <td>Aprovado</td>\n",
              "    </tr>\n",
              "    <tr>\n",
              "      <th>23</th>\n",
              "      <td>20210008248</td>\n",
              "      <td>7,0</td>\n",
              "      <td>7,0</td>\n",
              "      <td>9,1</td>\n",
              "      <td>7,6</td>\n",
              "      <td>Aprovado</td>\n",
              "    </tr>\n",
              "    <tr>\n",
              "      <th>24</th>\n",
              "      <td>20210008249</td>\n",
              "      <td>7,5</td>\n",
              "      <td>8,6</td>\n",
              "      <td>9,0</td>\n",
              "      <td>8,4</td>\n",
              "      <td>Aprovado</td>\n",
              "    </tr>\n",
              "  </tbody>\n",
              "</table>\n",
              "</div>"
            ],
            "text/plain": [
              "   No. Inscrição    Nota Média  Nota média Nota média.1  Média Unnamed: 0\n",
              "0            NaN           NaN         NaN          NaN    NaN  Resultado\n",
              "1   do Candidato  do Currículo  do Projeto  da arguição  final        NaN\n",
              "2    20210007278           9,0         9,1          9,8    9,3   Aprovado\n",
              "3    20210007332            10         7,9          9,1    8,9   Aprovado\n",
              "4    20210007365           8,0         7,1          8,3    7,7   Aprovado\n",
              "5    20210007410           8,5         7,3          8,0    7,8   Aprovado\n",
              "6    20210007458           8,8         7,0          Não    NaN  Reprovado\n",
              "7            NaN           NaN         NaN   compareceu    NaN        NaN\n",
              "8    20210007659           8,5         7,0          8,3    7,8   Aprovado\n",
              "9    20210007701           7,0         8,7          8,5    8,2   Aprovado\n",
              "10   20210007732           8,0         8,1          8,5    8,2   Aprovado\n",
              "11   20210007735           8,0         7,0          8,8    7,8   Aprovado\n",
              "12   20210007812           8,5         7,0          7,1    7,5   Aprovado\n",
              "13   20210007838           9,5         8,4          8,3    8,7   Aprovado\n",
              "14   20210007864           8,0         7,0          8,3    7,7   Aprovado\n",
              "15   20210008217           9,5         8,0          8,9    8,7   Aprovado\n",
              "16   20210008233           9,7         8,9          9,3    9,3   Aprovado\n",
              "17   20210008237           9,0         7,3          8,1    8,1   Aprovado\n",
              "18   20210008238           7,0         7,2          8,6    7,6   Aprovado\n",
              "19   20210008243           NaN         NaN          Não    NaN  Reprovado\n",
              "20           NaN           7,5         7,0   compareceu    NaN        NaN\n",
              "21   20210008244           8,7         7,0          7,1    7,5   Aprovado\n",
              "22   20210008245           9,0         8,3          8,3    8,5   Aprovado\n",
              "23   20210008248           7,0         7,0          9,1    7,6   Aprovado\n",
              "24   20210008249           7,5         8,6          9,0    8,4   Aprovado"
            ]
          },
          "metadata": {
            "tags": []
          },
          "execution_count": 8
        }
      ]
    },
    {
      "cell_type": "code",
      "metadata": {
        "id": "apcGox6ASWZL"
      },
      "source": [
        "df = pd.DataFrame(tabela[0])"
      ],
      "execution_count": 9,
      "outputs": []
    },
    {
      "cell_type": "markdown",
      "metadata": {
        "id": "KlY91DYNxmc0"
      },
      "source": [
        "**Passo 2:**\n",
        "\n",
        "Limpar os dados e preparar o dataframe para análise."
      ]
    },
    {
      "cell_type": "code",
      "metadata": {
        "id": "_H_iivHxTA4A"
      },
      "source": [
        "df = df.dropna()"
      ],
      "execution_count": 10,
      "outputs": []
    },
    {
      "cell_type": "code",
      "metadata": {
        "colab": {
          "base_uri": "https://localhost:8080/",
          "height": 204
        },
        "id": "pQniV-_JTDrl",
        "outputId": "23dceda0-60c5-4ff5-b6bc-78467e6258b3"
      },
      "source": [
        "df.head()"
      ],
      "execution_count": 11,
      "outputs": [
        {
          "output_type": "execute_result",
          "data": {
            "text/html": [
              "<div>\n",
              "<style scoped>\n",
              "    .dataframe tbody tr th:only-of-type {\n",
              "        vertical-align: middle;\n",
              "    }\n",
              "\n",
              "    .dataframe tbody tr th {\n",
              "        vertical-align: top;\n",
              "    }\n",
              "\n",
              "    .dataframe thead th {\n",
              "        text-align: right;\n",
              "    }\n",
              "</style>\n",
              "<table border=\"1\" class=\"dataframe\">\n",
              "  <thead>\n",
              "    <tr style=\"text-align: right;\">\n",
              "      <th></th>\n",
              "      <th>No. Inscrição</th>\n",
              "      <th>Nota Média</th>\n",
              "      <th>Nota média</th>\n",
              "      <th>Nota média.1</th>\n",
              "      <th>Média</th>\n",
              "      <th>Unnamed: 0</th>\n",
              "    </tr>\n",
              "  </thead>\n",
              "  <tbody>\n",
              "    <tr>\n",
              "      <th>2</th>\n",
              "      <td>20210007278</td>\n",
              "      <td>9,0</td>\n",
              "      <td>9,1</td>\n",
              "      <td>9,8</td>\n",
              "      <td>9,3</td>\n",
              "      <td>Aprovado</td>\n",
              "    </tr>\n",
              "    <tr>\n",
              "      <th>3</th>\n",
              "      <td>20210007332</td>\n",
              "      <td>10</td>\n",
              "      <td>7,9</td>\n",
              "      <td>9,1</td>\n",
              "      <td>8,9</td>\n",
              "      <td>Aprovado</td>\n",
              "    </tr>\n",
              "    <tr>\n",
              "      <th>4</th>\n",
              "      <td>20210007365</td>\n",
              "      <td>8,0</td>\n",
              "      <td>7,1</td>\n",
              "      <td>8,3</td>\n",
              "      <td>7,7</td>\n",
              "      <td>Aprovado</td>\n",
              "    </tr>\n",
              "    <tr>\n",
              "      <th>5</th>\n",
              "      <td>20210007410</td>\n",
              "      <td>8,5</td>\n",
              "      <td>7,3</td>\n",
              "      <td>8,0</td>\n",
              "      <td>7,8</td>\n",
              "      <td>Aprovado</td>\n",
              "    </tr>\n",
              "    <tr>\n",
              "      <th>8</th>\n",
              "      <td>20210007659</td>\n",
              "      <td>8,5</td>\n",
              "      <td>7,0</td>\n",
              "      <td>8,3</td>\n",
              "      <td>7,8</td>\n",
              "      <td>Aprovado</td>\n",
              "    </tr>\n",
              "  </tbody>\n",
              "</table>\n",
              "</div>"
            ],
            "text/plain": [
              "  No. Inscrição Nota Média Nota média Nota média.1 Média Unnamed: 0\n",
              "2   20210007278        9,0        9,1          9,8   9,3   Aprovado\n",
              "3   20210007332         10        7,9          9,1   8,9   Aprovado\n",
              "4   20210007365        8,0        7,1          8,3   7,7   Aprovado\n",
              "5   20210007410        8,5        7,3          8,0   7,8   Aprovado\n",
              "8   20210007659        8,5        7,0          8,3   7,8   Aprovado"
            ]
          },
          "metadata": {
            "tags": []
          },
          "execution_count": 11
        }
      ]
    },
    {
      "cell_type": "code",
      "metadata": {
        "id": "VLMJNfAgTgCk"
      },
      "source": [
        "df.columns = ['inscr','curriculo','projeto','arguicao','media','status']"
      ],
      "execution_count": 12,
      "outputs": []
    },
    {
      "cell_type": "code",
      "metadata": {
        "id": "hTcwuBi7XQ03"
      },
      "source": [
        "df['arguicao'] = df['arguicao'].str.replace(',','.')\n",
        "df['curriculo'] = df['curriculo'].str.replace(',','.')\n",
        "df['media'] = df['media'].str.replace(',','.')\n",
        "df['projeto'] = df['projeto'].str.replace(',','.')"
      ],
      "execution_count": 13,
      "outputs": []
    },
    {
      "cell_type": "code",
      "metadata": {
        "id": "8jfRSCPAYoSS"
      },
      "source": [
        "df['arguicao'] = df['arguicao'].astype(float)\n",
        "df['curriculo'] = df['curriculo'].astype(float)\n",
        "df['media'] = df['media'].astype(float)\n",
        "df['projeto'] = df['projeto'].astype(float)"
      ],
      "execution_count": 14,
      "outputs": []
    },
    {
      "cell_type": "code",
      "metadata": {
        "id": "BZ4tCd-QsWQl"
      },
      "source": [
        "df = df.drop(columns=['inscr','status'])"
      ],
      "execution_count": 15,
      "outputs": []
    },
    {
      "cell_type": "code",
      "metadata": {
        "colab": {
          "base_uri": "https://localhost:8080/",
          "height": 638
        },
        "id": "hPQzrE0tT0ih",
        "outputId": "e0007946-633a-4133-fdeb-9a07125fe183"
      },
      "source": [
        "df.sort_values('curriculo')"
      ],
      "execution_count": 16,
      "outputs": [
        {
          "output_type": "execute_result",
          "data": {
            "text/html": [
              "<div>\n",
              "<style scoped>\n",
              "    .dataframe tbody tr th:only-of-type {\n",
              "        vertical-align: middle;\n",
              "    }\n",
              "\n",
              "    .dataframe tbody tr th {\n",
              "        vertical-align: top;\n",
              "    }\n",
              "\n",
              "    .dataframe thead th {\n",
              "        text-align: right;\n",
              "    }\n",
              "</style>\n",
              "<table border=\"1\" class=\"dataframe\">\n",
              "  <thead>\n",
              "    <tr style=\"text-align: right;\">\n",
              "      <th></th>\n",
              "      <th>curriculo</th>\n",
              "      <th>projeto</th>\n",
              "      <th>arguicao</th>\n",
              "      <th>media</th>\n",
              "    </tr>\n",
              "  </thead>\n",
              "  <tbody>\n",
              "    <tr>\n",
              "      <th>9</th>\n",
              "      <td>7.0</td>\n",
              "      <td>8.7</td>\n",
              "      <td>8.5</td>\n",
              "      <td>8.2</td>\n",
              "    </tr>\n",
              "    <tr>\n",
              "      <th>23</th>\n",
              "      <td>7.0</td>\n",
              "      <td>7.0</td>\n",
              "      <td>9.1</td>\n",
              "      <td>7.6</td>\n",
              "    </tr>\n",
              "    <tr>\n",
              "      <th>18</th>\n",
              "      <td>7.0</td>\n",
              "      <td>7.2</td>\n",
              "      <td>8.6</td>\n",
              "      <td>7.6</td>\n",
              "    </tr>\n",
              "    <tr>\n",
              "      <th>24</th>\n",
              "      <td>7.5</td>\n",
              "      <td>8.6</td>\n",
              "      <td>9.0</td>\n",
              "      <td>8.4</td>\n",
              "    </tr>\n",
              "    <tr>\n",
              "      <th>4</th>\n",
              "      <td>8.0</td>\n",
              "      <td>7.1</td>\n",
              "      <td>8.3</td>\n",
              "      <td>7.7</td>\n",
              "    </tr>\n",
              "    <tr>\n",
              "      <th>10</th>\n",
              "      <td>8.0</td>\n",
              "      <td>8.1</td>\n",
              "      <td>8.5</td>\n",
              "      <td>8.2</td>\n",
              "    </tr>\n",
              "    <tr>\n",
              "      <th>11</th>\n",
              "      <td>8.0</td>\n",
              "      <td>7.0</td>\n",
              "      <td>8.8</td>\n",
              "      <td>7.8</td>\n",
              "    </tr>\n",
              "    <tr>\n",
              "      <th>14</th>\n",
              "      <td>8.0</td>\n",
              "      <td>7.0</td>\n",
              "      <td>8.3</td>\n",
              "      <td>7.7</td>\n",
              "    </tr>\n",
              "    <tr>\n",
              "      <th>5</th>\n",
              "      <td>8.5</td>\n",
              "      <td>7.3</td>\n",
              "      <td>8.0</td>\n",
              "      <td>7.8</td>\n",
              "    </tr>\n",
              "    <tr>\n",
              "      <th>8</th>\n",
              "      <td>8.5</td>\n",
              "      <td>7.0</td>\n",
              "      <td>8.3</td>\n",
              "      <td>7.8</td>\n",
              "    </tr>\n",
              "    <tr>\n",
              "      <th>12</th>\n",
              "      <td>8.5</td>\n",
              "      <td>7.0</td>\n",
              "      <td>7.1</td>\n",
              "      <td>7.5</td>\n",
              "    </tr>\n",
              "    <tr>\n",
              "      <th>21</th>\n",
              "      <td>8.7</td>\n",
              "      <td>7.0</td>\n",
              "      <td>7.1</td>\n",
              "      <td>7.5</td>\n",
              "    </tr>\n",
              "    <tr>\n",
              "      <th>22</th>\n",
              "      <td>9.0</td>\n",
              "      <td>8.3</td>\n",
              "      <td>8.3</td>\n",
              "      <td>8.5</td>\n",
              "    </tr>\n",
              "    <tr>\n",
              "      <th>2</th>\n",
              "      <td>9.0</td>\n",
              "      <td>9.1</td>\n",
              "      <td>9.8</td>\n",
              "      <td>9.3</td>\n",
              "    </tr>\n",
              "    <tr>\n",
              "      <th>17</th>\n",
              "      <td>9.0</td>\n",
              "      <td>7.3</td>\n",
              "      <td>8.1</td>\n",
              "      <td>8.1</td>\n",
              "    </tr>\n",
              "    <tr>\n",
              "      <th>15</th>\n",
              "      <td>9.5</td>\n",
              "      <td>8.0</td>\n",
              "      <td>8.9</td>\n",
              "      <td>8.7</td>\n",
              "    </tr>\n",
              "    <tr>\n",
              "      <th>13</th>\n",
              "      <td>9.5</td>\n",
              "      <td>8.4</td>\n",
              "      <td>8.3</td>\n",
              "      <td>8.7</td>\n",
              "    </tr>\n",
              "    <tr>\n",
              "      <th>16</th>\n",
              "      <td>9.7</td>\n",
              "      <td>8.9</td>\n",
              "      <td>9.3</td>\n",
              "      <td>9.3</td>\n",
              "    </tr>\n",
              "    <tr>\n",
              "      <th>3</th>\n",
              "      <td>10.0</td>\n",
              "      <td>7.9</td>\n",
              "      <td>9.1</td>\n",
              "      <td>8.9</td>\n",
              "    </tr>\n",
              "  </tbody>\n",
              "</table>\n",
              "</div>"
            ],
            "text/plain": [
              "    curriculo  projeto  arguicao  media\n",
              "9         7.0      8.7       8.5    8.2\n",
              "23        7.0      7.0       9.1    7.6\n",
              "18        7.0      7.2       8.6    7.6\n",
              "24        7.5      8.6       9.0    8.4\n",
              "4         8.0      7.1       8.3    7.7\n",
              "10        8.0      8.1       8.5    8.2\n",
              "11        8.0      7.0       8.8    7.8\n",
              "14        8.0      7.0       8.3    7.7\n",
              "5         8.5      7.3       8.0    7.8\n",
              "8         8.5      7.0       8.3    7.8\n",
              "12        8.5      7.0       7.1    7.5\n",
              "21        8.7      7.0       7.1    7.5\n",
              "22        9.0      8.3       8.3    8.5\n",
              "2         9.0      9.1       9.8    9.3\n",
              "17        9.0      7.3       8.1    8.1\n",
              "15        9.5      8.0       8.9    8.7\n",
              "13        9.5      8.4       8.3    8.7\n",
              "16        9.7      8.9       9.3    9.3\n",
              "3        10.0      7.9       9.1    8.9"
            ]
          },
          "metadata": {
            "tags": []
          },
          "execution_count": 16
        }
      ]
    },
    {
      "cell_type": "markdown",
      "metadata": {
        "id": "Ulg9WdFtxwKp"
      },
      "source": [
        "**Passo 3:**\n",
        "\n",
        "Análise exploratória de dados"
      ]
    },
    {
      "cell_type": "code",
      "metadata": {
        "colab": {
          "base_uri": "https://localhost:8080/",
          "height": 282
        },
        "id": "wNTw5M5ST1Nb",
        "outputId": "95f020a3-e67c-444b-91dd-933c2335160f"
      },
      "source": [
        "plt.scatter(df['arguicao'], df['media'])"
      ],
      "execution_count": 17,
      "outputs": [
        {
          "output_type": "execute_result",
          "data": {
            "text/plain": [
              "<matplotlib.collections.PathCollection at 0x7f9aa4a6b410>"
            ]
          },
          "metadata": {
            "tags": []
          },
          "execution_count": 17
        },
        {
          "output_type": "display_data",
          "data": {
            "image/png": "[encoded data removed]",
            "text/plain": [
              "<Figure size 432x288 with 1 Axes>"
            ]
          },
          "metadata": {
            "tags": [],
            "needs_background": "light"
          }
        }
      ]
    },
    {
      "cell_type": "code",
      "metadata": {
        "colab": {
          "base_uri": "https://localhost:8080/",
          "height": 282
        },
        "id": "1OYEztUBUMyu",
        "outputId": "dc5b6a06-2926-4f66-c20b-2d7d29702be6"
      },
      "source": [
        "plt.scatter(df['curriculo'], df['media'])"
      ],
      "execution_count": 18,
      "outputs": [
        {
          "output_type": "execute_result",
          "data": {
            "text/plain": [
              "<matplotlib.collections.PathCollection at 0x7f9aa4a6bbd0>"
            ]
          },
          "metadata": {
            "tags": []
          },
          "execution_count": 18
        },
        {
          "output_type": "display_data",
          "data": {
            "image/png": "[encoded data removed]",
            "text/plain": [
              "<Figure size 432x288 with 1 Axes>"
            ]
          },
          "metadata": {
            "tags": [],
            "needs_background": "light"
          }
        }
      ]
    },
    {
      "cell_type": "code",
      "metadata": {
        "colab": {
          "base_uri": "https://localhost:8080/",
          "height": 282
        },
        "id": "rq1cjGN8Uawl",
        "outputId": "eb72799e-2e08-4306-fc1f-04468fdc2e12"
      },
      "source": [
        "plt.scatter(df['projeto'], df['media'])"
      ],
      "execution_count": 19,
      "outputs": [
        {
          "output_type": "execute_result",
          "data": {
            "text/plain": [
              "<matplotlib.collections.PathCollection at 0x7f9aa4a25c90>"
            ]
          },
          "metadata": {
            "tags": []
          },
          "execution_count": 19
        },
        {
          "output_type": "display_data",
          "data": {
            "image/png": "[encoded data removed]",
            "text/plain": [
              "<Figure size 432x288 with 1 Axes>"
            ]
          },
          "metadata": {
            "tags": [],
            "needs_background": "light"
          }
        }
      ]
    },
    {
      "cell_type": "code",
      "metadata": {
        "colab": {
          "base_uri": "https://localhost:8080/",
          "height": 279
        },
        "id": "WNF0tbL4UeiI",
        "outputId": "32dea586-8b48-492f-a72e-7b8b561847b9"
      },
      "source": [
        "plt.scatter(df['arguicao'], df['projeto'])\n",
        "plt.xlabel('Arguição')\n",
        "plt.ylabel('Projeto')\n",
        "plt.show()"
      ],
      "execution_count": 20,
      "outputs": [
        {
          "output_type": "display_data",
          "data": {
            "image/png": "[encoded data removed]",
            "text/plain": [
              "<Figure size 432x288 with 1 Axes>"
            ]
          },
          "metadata": {
            "tags": [],
            "needs_background": "light"
          }
        }
      ]
    },
    {
      "cell_type": "code",
      "metadata": {
        "colab": {
          "base_uri": "https://localhost:8080/",
          "height": 265
        },
        "id": "MYWJEpYIUhlS",
        "outputId": "6fdca447-ce69-4237-9e57-b2f14f1405f3"
      },
      "source": [
        "plt.hist(df['curriculo'], bins=10)\n",
        "plt.show()"
      ],
      "execution_count": 21,
      "outputs": [
        {
          "output_type": "display_data",
          "data": {
            "image/png": "[encoded data removed]",
            "text/plain": [
              "<Figure size 432x288 with 1 Axes>"
            ]
          },
          "metadata": {
            "tags": [],
            "needs_background": "light"
          }
        }
      ]
    },
    {
      "cell_type": "code",
      "metadata": {
        "colab": {
          "base_uri": "https://localhost:8080/",
          "height": 265
        },
        "id": "IYbLlbrLU2JO",
        "outputId": "cce7b458-7eed-4ac9-fb37-763995e46ea3"
      },
      "source": [
        "plt.hist(df['arguicao'], bins=10)\n",
        "plt.show()"
      ],
      "execution_count": 22,
      "outputs": [
        {
          "output_type": "display_data",
          "data": {
            "image/png": "[encoded data removed]",
            "text/plain": [
              "<Figure size 432x288 with 1 Axes>"
            ]
          },
          "metadata": {
            "tags": [],
            "needs_background": "light"
          }
        }
      ]
    },
    {
      "cell_type": "code",
      "metadata": {
        "colab": {
          "base_uri": "https://localhost:8080/",
          "height": 265
        },
        "id": "qxdDVVAMZSg2",
        "outputId": "f313651a-567b-4cc9-a2fa-033f953c2ad4"
      },
      "source": [
        "plt.hist(df['projeto'], bins=10)\n",
        "plt.show()"
      ],
      "execution_count": 23,
      "outputs": [
        {
          "output_type": "display_data",
          "data": {
            "image/png": "[encoded data removed]",
            "text/plain": [
              "<Figure size 432x288 with 1 Axes>"
            ]
          },
          "metadata": {
            "tags": [],
            "needs_background": "light"
          }
        }
      ]
    },
    {
      "cell_type": "code",
      "metadata": {
        "colab": {
          "base_uri": "https://localhost:8080/",
          "height": 265
        },
        "id": "sMS4jD-uZUqq",
        "outputId": "55779ff9-a25e-4bea-a903-3db615fcd64e"
      },
      "source": [
        "plt.hist(df['media'], bins=10)\n",
        "plt.show()"
      ],
      "execution_count": 24,
      "outputs": [
        {
          "output_type": "display_data",
          "data": {
            "image/png": "[encoded data removed]",
            "text/plain": [
              "<Figure size 432x288 with 1 Axes>"
            ]
          },
          "metadata": {
            "tags": [],
            "needs_background": "light"
          }
        }
      ]
    },
    {
      "cell_type": "code",
      "metadata": {
        "colab": {
          "base_uri": "https://localhost:8080/",
          "height": 297
        },
        "id": "EO5M0n4fZWoa",
        "outputId": "f77475ca-1696-435e-e386-7fb1dfde41f9"
      },
      "source": [
        "df.describe()"
      ],
      "execution_count": 25,
      "outputs": [
        {
          "output_type": "execute_result",
          "data": {
            "text/html": [
              "<div>\n",
              "<style scoped>\n",
              "    .dataframe tbody tr th:only-of-type {\n",
              "        vertical-align: middle;\n",
              "    }\n",
              "\n",
              "    .dataframe tbody tr th {\n",
              "        vertical-align: top;\n",
              "    }\n",
              "\n",
              "    .dataframe thead th {\n",
              "        text-align: right;\n",
              "    }\n",
              "</style>\n",
              "<table border=\"1\" class=\"dataframe\">\n",
              "  <thead>\n",
              "    <tr style=\"text-align: right;\">\n",
              "      <th></th>\n",
              "      <th>curriculo</th>\n",
              "      <th>projeto</th>\n",
              "      <th>arguicao</th>\n",
              "      <th>media</th>\n",
              "    </tr>\n",
              "  </thead>\n",
              "  <tbody>\n",
              "    <tr>\n",
              "      <th>count</th>\n",
              "      <td>19.000000</td>\n",
              "      <td>19.000000</td>\n",
              "      <td>19.000000</td>\n",
              "      <td>19.000000</td>\n",
              "    </tr>\n",
              "    <tr>\n",
              "      <th>mean</th>\n",
              "      <td>8.442105</td>\n",
              "      <td>7.731579</td>\n",
              "      <td>8.494737</td>\n",
              "      <td>8.173684</td>\n",
              "    </tr>\n",
              "    <tr>\n",
              "      <th>std</th>\n",
              "      <td>0.917918</td>\n",
              "      <td>0.752811</td>\n",
              "      <td>0.670384</td>\n",
              "      <td>0.587690</td>\n",
              "    </tr>\n",
              "    <tr>\n",
              "      <th>min</th>\n",
              "      <td>7.000000</td>\n",
              "      <td>7.000000</td>\n",
              "      <td>7.100000</td>\n",
              "      <td>7.500000</td>\n",
              "    </tr>\n",
              "    <tr>\n",
              "      <th>25%</th>\n",
              "      <td>8.000000</td>\n",
              "      <td>7.000000</td>\n",
              "      <td>8.300000</td>\n",
              "      <td>7.700000</td>\n",
              "    </tr>\n",
              "    <tr>\n",
              "      <th>50%</th>\n",
              "      <td>8.500000</td>\n",
              "      <td>7.300000</td>\n",
              "      <td>8.500000</td>\n",
              "      <td>8.100000</td>\n",
              "    </tr>\n",
              "    <tr>\n",
              "      <th>75%</th>\n",
              "      <td>9.000000</td>\n",
              "      <td>8.350000</td>\n",
              "      <td>8.950000</td>\n",
              "      <td>8.600000</td>\n",
              "    </tr>\n",
              "    <tr>\n",
              "      <th>max</th>\n",
              "      <td>10.000000</td>\n",
              "      <td>9.100000</td>\n",
              "      <td>9.800000</td>\n",
              "      <td>9.300000</td>\n",
              "    </tr>\n",
              "  </tbody>\n",
              "</table>\n",
              "</div>"
            ],
            "text/plain": [
              "       curriculo    projeto   arguicao      media\n",
              "count  19.000000  19.000000  19.000000  19.000000\n",
              "mean    8.442105   7.731579   8.494737   8.173684\n",
              "std     0.917918   0.752811   0.670384   0.587690\n",
              "min     7.000000   7.000000   7.100000   7.500000\n",
              "25%     8.000000   7.000000   8.300000   7.700000\n",
              "50%     8.500000   7.300000   8.500000   8.100000\n",
              "75%     9.000000   8.350000   8.950000   8.600000\n",
              "max    10.000000   9.100000   9.800000   9.300000"
            ]
          },
          "metadata": {
            "tags": []
          },
          "execution_count": 25
        }
      ]
    },
    {
      "cell_type": "code",
      "metadata": {
        "colab": {
          "base_uri": "https://localhost:8080/",
          "height": 298
        },
        "id": "lQkT7WwLZvYF",
        "outputId": "9a8f4f80-9755-4294-eaf7-a7db68d147be"
      },
      "source": [
        "plt.subplot(1,2,1)\n",
        "plt.boxplot(df['curriculo'])\n",
        "plt.title(\"Notas dos Currículos\")\n",
        "plt.subplot(1,2,2)\n",
        "plt.boxplot(df['projeto'])\n",
        "plt.title(\"Notas dos Projetos\")\n",
        "plt.show"
      ],
      "execution_count": 26,
      "outputs": [
        {
          "output_type": "execute_result",
          "data": {
            "text/plain": [
              "<function matplotlib.pyplot.show>"
            ]
          },
          "metadata": {
            "tags": []
          },
          "execution_count": 26
        },
        {
          "output_type": "display_data",
          "data": {
            "image/png": "[encoded data removed]",
            "text/plain": [
              "<Figure size 432x288 with 2 Axes>"
            ]
          },
          "metadata": {
            "tags": [],
            "needs_background": "light"
          }
        }
      ]
    },
    {
      "cell_type": "code",
      "metadata": {
        "colab": {
          "base_uri": "https://localhost:8080/",
          "height": 282
        },
        "id": "t2kqQEVnZ5SE",
        "outputId": "3f4bc1be-9107-4f7d-fd2b-2c67d89e83f1"
      },
      "source": [
        "plt.subplot(1,2,1)\n",
        "plt.boxplot(df['arguicao'])\n",
        "plt.subplot(1,2,2)\n",
        "plt.boxplot(df['media'])\n",
        "plt.show"
      ],
      "execution_count": 27,
      "outputs": [
        {
          "output_type": "execute_result",
          "data": {
            "text/plain": [
              "<function matplotlib.pyplot.show>"
            ]
          },
          "metadata": {
            "tags": []
          },
          "execution_count": 27
        },
        {
          "output_type": "display_data",
          "data": {
            "image/png": "[encoded data removed]",
            "text/plain": [
              "<Figure size 432x288 with 2 Axes>"
            ]
          },
          "metadata": {
            "tags": [],
            "needs_background": "light"
          }
        }
      ]
    },
    {
      "cell_type": "code",
      "metadata": {
        "colab": {
          "base_uri": "https://localhost:8080/",
          "height": 282
        },
        "id": "CgxA6bhvaU10",
        "outputId": "2d86ff93-e996-4c86-cc90-9fdc2f4d5a95"
      },
      "source": [
        "plt.subplot(1,2,1)\n",
        "plt.boxplot(df['projeto'])\n",
        "plt.subplot(1,2,2)\n",
        "plt.boxplot(df['arguicao'])\n",
        "plt.show"
      ],
      "execution_count": 28,
      "outputs": [
        {
          "output_type": "execute_result",
          "data": {
            "text/plain": [
              "<function matplotlib.pyplot.show>"
            ]
          },
          "metadata": {
            "tags": []
          },
          "execution_count": 28
        },
        {
          "output_type": "display_data",
          "data": {
            "image/png": "[encoded data removed]",
            "text/plain": [
              "<Figure size 432x288 with 2 Axes>"
            ]
          },
          "metadata": {
            "tags": [],
            "needs_background": "light"
          }
        }
      ]
    },
    {
      "cell_type": "markdown",
      "metadata": {
        "id": "caF8NtFsx6nF"
      },
      "source": [
        "As notas de projeto tendem para baixo e as notas de arguição para cima."
      ]
    },
    {
      "cell_type": "code",
      "metadata": {
        "colab": {
          "base_uri": "https://localhost:8080/",
          "height": 730
        },
        "id": "g6y78195ae17",
        "outputId": "cfc08744-5237-47d4-e75f-3de1b6f6943c"
      },
      "source": [
        "sns.clustermap(data=df)\n",
        "plt.savefig(\"mapa-calor.png\", format=\"png\")\n",
        "plt.show()"
      ],
      "execution_count": 39,
      "outputs": [
        {
          "output_type": "display_data",
          "data": {
            "image/png": "[encoded data removed]",
            "text/plain": [
              "<Figure size 720x720 with 4 Axes>"
            ]
          },
          "metadata": {
            "tags": [],
            "needs_background": "light"
          }
        }
      ]
    },
    {
      "cell_type": "markdown",
      "metadata": {
        "id": "RsqCzt_myDH1"
      },
      "source": [
        "Temos 3 clusters importantes:\n",
        "\n",
        "1. Os que foram bem em todos os quesitos.\n",
        "2. Os que foram mal na análise de currículo.\n",
        "3. Os que foram mal no projeto."
      ]
    },
    {
      "cell_type": "code",
      "metadata": {
        "colab": {
          "base_uri": "https://localhost:8080/",
          "height": 726
        },
        "id": "KGraNPYppZhm",
        "outputId": "19a87d07-be29-4b5d-a425-7d3929f1d6d6"
      },
      "source": [
        "sns.pairplot(data=df)\n",
        "plt.show()"
      ],
      "execution_count": 30,
      "outputs": [
        {
          "output_type": "display_data",
          "data": {
            "image/png": "[encoded data removed]",
            "text/plain": [
              "<Figure size 720x720 with 20 Axes>"
            ]
          },
          "metadata": {
            "tags": [],
            "needs_background": "light"
          }
        }
      ]
    },
    {
      "cell_type": "markdown",
      "metadata": {
        "id": "DwrtOs_uyYBv"
      },
      "source": [
        "Parece que existe uma correlação positiva entre as notas."
      ]
    },
    {
      "cell_type": "code",
      "metadata": {
        "colab": {
          "base_uri": "https://localhost:8080/",
          "height": 265
        },
        "id": "fd1BhWL8tmIY",
        "outputId": "61cb728f-ded8-4d84-8e41-e9e8ce2de2ab"
      },
      "source": [
        "sns.boxplot(data=df)\n",
        "plt.show()"
      ],
      "execution_count": 31,
      "outputs": [
        {
          "output_type": "display_data",
          "data": {
            "image/png": "[encoded data removed]",
            "text/plain": [
              "<Figure size 432x288 with 1 Axes>"
            ]
          },
          "metadata": {
            "tags": [],
            "needs_background": "light"
          }
        }
      ]
    },
    {
      "cell_type": "markdown",
      "metadata": {
        "id": "MY7O5JA_yfi4"
      },
      "source": [
        "Colocando os boxplots lado a lado fica clara a discrepância das notas de projeto."
      ]
    },
    {
      "cell_type": "code",
      "metadata": {
        "colab": {
          "base_uri": "https://localhost:8080/",
          "height": 369
        },
        "id": "ZJqph5YTuqCY",
        "outputId": "7b00c585-eecf-40ba-870c-4156a0206e58"
      },
      "source": [
        "sns.catplot(data=df)\n",
        "plt.show()"
      ],
      "execution_count": 32,
      "outputs": [
        {
          "output_type": "display_data",
          "data": {
            "image/png": "[encoded data removed]",
            "text/plain": [
              "<Figure size 360x360 with 1 Axes>"
            ]
          },
          "metadata": {
            "tags": [],
            "needs_background": "light"
          }
        }
      ]
    },
    {
      "cell_type": "code",
      "metadata": {
        "colab": {
          "base_uri": "https://localhost:8080/",
          "height": 279
        },
        "id": "Wh1oO-9quz2F",
        "outputId": "129e071b-cd84-4291-b722-41f66669b1f5"
      },
      "source": [
        "sns.regplot(data=df,x='media',y='arguicao')\n",
        "plt.show()"
      ],
      "execution_count": 33,
      "outputs": [
        {
          "output_type": "display_data",
          "data": {
            "image/png": "[encoded data removed]",
            "text/plain": [
              "<Figure size 432x288 with 1 Axes>"
            ]
          },
          "metadata": {
            "tags": [],
            "needs_background": "light"
          }
        }
      ]
    },
    {
      "cell_type": "code",
      "metadata": {
        "colab": {
          "base_uri": "https://localhost:8080/",
          "height": 279
        },
        "id": "ClB_iw-bvWe9",
        "outputId": "c3a12902-2fac-484d-f13f-d5702d26c017"
      },
      "source": [
        "sns.regplot(data=df,x='media',y='projeto')\n",
        "plt.show()"
      ],
      "execution_count": 34,
      "outputs": [
        {
          "output_type": "display_data",
          "data": {
            "image/png": "[encoded data removed]",
            "text/plain": [
              "<Figure size 432x288 with 1 Axes>"
            ]
          },
          "metadata": {
            "tags": [],
            "needs_background": "light"
          }
        }
      ]
    },
    {
      "cell_type": "code",
      "metadata": {
        "colab": {
          "base_uri": "https://localhost:8080/",
          "height": 279
        },
        "id": "h2ksjL6XwpRg",
        "outputId": "67dd378d-bbad-4993-d5f1-934d7e60b136"
      },
      "source": [
        "sns.regplot(data=df,x='media',y='curriculo')\n",
        "plt.show()"
      ],
      "execution_count": 35,
      "outputs": [
        {
          "output_type": "display_data",
          "data": {
            "image/png": "[encoded data removed]",
            "text/plain": [
              "<Figure size 432x288 with 1 Axes>"
            ]
          },
          "metadata": {
            "tags": [],
            "needs_background": "light"
          }
        }
      ]
    },
    {
      "cell_type": "markdown",
      "metadata": {
        "id": "X-ekm_6Syp2w"
      },
      "source": [
        "Os gráficos de regressão deixam claro a correlação positiva entre as notas. \n",
        "\n",
        "Se você tira uma nota alta em um dos quesitos, sua média também vai ser alta - e se você tira uma nota baixa, sua média vai ser mais baixa."
      ]
    },
    {
      "cell_type": "code",
      "metadata": {
        "colab": {
          "base_uri": "https://localhost:8080/",
          "height": 334
        },
        "id": "gWm5atfiy99G",
        "outputId": "e69247d6-7890-4142-e424-9378855abe1c"
      },
      "source": [
        "fig, axes = plt.subplots(1, 2, figsize=(15,5), sharey=True)\n",
        "sns.regplot(ax=axes[0], data=df, x='arguicao', y='projeto')\n",
        "sns.regplot(ax=axes[1], data=df, x='curriculo', y='projeto')\n",
        "plt.show()  "
      ],
      "execution_count": 36,
      "outputs": [
        {
          "output_type": "display_data",
          "data": {
            "image/png": "[encoded data removed]",
            "text/plain": [
              "<Figure size 1080x360 with 2 Axes>"
            ]
          },
          "metadata": {
            "tags": [],
            "needs_background": "light"
          }
        }
      ]
    },
    {
      "cell_type": "code",
      "metadata": {
        "colab": {
          "base_uri": "https://localhost:8080/",
          "height": 334
        },
        "id": "82oooWjTzUse",
        "outputId": "ebce9885-026b-4755-da1d-bedcf1cb0c27"
      },
      "source": [
        "fig, axes = plt.subplots(1, 2, figsize=(15,5), sharey=True)\n",
        "sns.regplot(ax=axes[0], data=df, x='projeto', y='arguicao')\n",
        "sns.regplot(ax=axes[1], data=df, x='curriculo', y='arguicao')\n",
        "plt.show()"
      ],
      "execution_count": 37,
      "outputs": [
        {
          "output_type": "display_data",
          "data": {
            "image/png": "[encoded data removed]",
            "text/plain": [
              "<Figure size 1080x360 with 2 Axes>"
            ]
          },
          "metadata": {
            "tags": [],
            "needs_background": "light"
          }
        }
      ]
    },
    {
      "cell_type": "markdown",
      "metadata": {
        "id": "7xiLi0Qn1bqe"
      },
      "source": [
        "Quanto melhor o projeto melhor a arguição.\n",
        "\n",
        "Currículo e arguição não estão tão correlacionados."
      ]
    },
    {
      "cell_type": "code",
      "metadata": {
        "colab": {
          "base_uri": "https://localhost:8080/",
          "height": 334
        },
        "id": "Zh4yD42G1Tws",
        "outputId": "15b425f5-d730-49f6-9712-28786b9dd415"
      },
      "source": [
        "fig, axes = plt.subplots(1, 2, figsize=(15,5), sharey=True)\n",
        "sns.regplot(ax=axes[0], data=df, x='arguicao', y='curriculo')\n",
        "sns.regplot(ax=axes[1], data=df, y='curriculo', x='projeto')\n",
        "plt.show()"
      ],
      "execution_count": 38,
      "outputs": [
        {
          "output_type": "display_data",
          "data": {
            "image/png": "[encoded data removed]",
            "text/plain": [
              "<Figure size 1080x360 with 2 Axes>"
            ]
          },
          "metadata": {
            "tags": [],
            "needs_background": "light"
          }
        }
      ]
    },
    {
      "cell_type": "code",
      "metadata": {
        "id": "C2mfc82b11Js"
      },
      "source": [
        ""
      ],
      "execution_count": 38,
      "outputs": []
    }
  ]
}